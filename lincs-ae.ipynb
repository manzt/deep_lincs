{
 "cells": [
  {
   "cell_type": "code",
   "execution_count": 1,
   "metadata": {},
   "outputs": [
    {
     "name": "stdout",
     "output_type": "stream",
     "text": [
      "tensorflow: 2.0.0-beta0\n",
      "keras: 2.2.4-tf\n"
     ]
    }
   ],
   "source": [
    "%load_ext autoreload\n",
    "%autoreload 2\n",
    "\n",
    "import tensorflow as tf\n",
    "import umap\n",
    "import numpy as np\n",
    "import matplotlib.pyplot as plt\n",
    "from utils import load_data, split_data\n",
    "import os\n",
    "\n",
    "print(f\"tensorflow: {tf.__version__}\")\n",
    "print(f\"keras: {tf.keras.__version__}\")"
   ]
  },
  {
   "cell_type": "code",
   "execution_count": 2,
   "metadata": {},
   "outputs": [
    {
     "name": "stdout",
     "output_type": "stream",
     "text": [
      "env: DATA_DIR=../data/GSE92742_Broad_LINCS\n"
     ]
    }
   ],
   "source": [
    "%env DATA_DIR ../data/GSE92742_Broad_LINCS\n",
    "\n",
    "data_dir = os.environ['DATA_DIR']\n",
    "\n",
    "# data_fname = 'GSE92742_Broad_LINCS_Level4_ZSPCINF_mlr12k_n1319138x12328.gctx' # Level 4 data\n",
    "data_fname = 'GSE92742_Broad_LINCS_Level3_INF_mlr12k_n1319138x12328.gctx' # Level 3 data\n",
    "data_path = os.path.join(data_dir, data_fname)\n",
    "\n",
    "sample_meta_fname = 'GSE92742_Broad_LINCS_inst_info.txt'\n",
    "sample_meta_path = os.path.join(data_dir, sample_meta_fname)"
   ]
  },
  {
   "cell_type": "code",
   "execution_count": 3,
   "metadata": {},
   "outputs": [
    {
     "name": "stdout",
     "output_type": "stream",
     "text": [
      "data size: (333523, 978)\n"
     ]
    }
   ],
   "source": [
    "# Read in raw data, selecting for cells by treatment and cell line\n",
    "\n",
    "pert_types = [\n",
    "    'trt_cp',       # treated with compound\n",
    "    'ctl_vehicle',  # control for compound treatment (e.g DMSO) \n",
    "    'ctl_untrt'     # untreated samples\n",
    "]\n",
    "\n",
    "cell_ids = [\n",
    "    'VCAP', # prostate tumor\n",
    "    'MCF7', # breast tumor\n",
    "    'PC3',  # prostate tumor\n",
    "]\n",
    "\n",
    "# Load Data\n",
    "sample_meta, gene_labels, data = load_data(data_path, sample_meta_path, pert_types, cell_ids)\n",
    "\n",
    "# Normalize expression between 0-1 per gene\n",
    "# TODO: implement this normalization per batch during training\n",
    "data_normed = data / data.max(0)\n",
    "\n",
    "print(f\"data size: {data.shape}\")"
   ]
  },
  {
   "cell_type": "code",
   "execution_count": 4,
   "metadata": {},
   "outputs": [
    {
     "name": "stdout",
     "output_type": "stream",
     "text": [
      "training size:   213,454\n",
      "validation size: 53,364\n",
      "testing size:    66,705\n"
     ]
    }
   ],
   "source": [
    "# Split data into training, validation, and testing\n",
    "train, val, test = split_data(data_normed, sample_meta, 0.2)\n",
    "\n",
    "print(f\"training size:   {train[0].shape[0]:,}\")\n",
    "print(f\"validation size: {val[0].shape[0]:,}\")\n",
    "print(f\"testing size:    {test[0].shape[0]:,}\")"
   ]
  },
  {
   "cell_type": "code",
   "execution_count": 5,
   "metadata": {},
   "outputs": [],
   "source": [
    "from tensorflow.keras import Sequential, layers\n",
    "from metrics import PearsonsR\n",
    "\n",
    "def create_AE(hidden_layers, activation='relu', optimizer='adam', out_size=978):\n",
    "    model = Sequential()\n",
    "    model.add(layers.Dense(hidden_layers[0], activation=activation, input_shape=(out_size,)))\n",
    "\n",
    "    for nunits in hidden_layers[1:]:\n",
    "        model.add(layers.Dense(nunits, activation=activation))\n",
    "        \n",
    "    model.add(layers.Dense(out_size, activation='relu'))\n",
    "    \n",
    "    model.compile(\n",
    "        optimizer = optimizer, \n",
    "        loss = 'mean_squared_error',\n",
    "        metrics = [\n",
    "            tf.keras.metrics.CosineSimilarity(),\n",
    "            PearsonsR() # custom correlation metric\n",
    "        ] \n",
    "    )\n",
    "    \n",
    "    return model\n",
    "\n",
    "def create_tf_dataset(X, y, shuffle=True, repeated=True, batch_size=32):\n",
    "    dataset = tf.data.Dataset.from_tensor_slices((X,y))\n",
    "    if repeated:\n",
    "        dataset = dataset.repeat()\n",
    "    if shuffle:\n",
    "        dataset = dataset.shuffle(buffer_size = X.shape[0])\n",
    "    dataset = dataset.batch(batch_size)\n",
    "    # `prefetch` lets the dataset fetch batches, in the background while the model is training.\n",
    "    dataset = dataset.prefetch(buffer_size = tf.data.experimental.AUTOTUNE)\n",
    "    return dataset"
   ]
  },
  {
   "cell_type": "code",
   "execution_count": 6,
   "metadata": {},
   "outputs": [
    {
     "data": {
      "text/plain": [
       "<PrefetchDataset shapes: ((None, 978), (None, 978)), types: (tf.float32, tf.float32)>"
      ]
     },
     "execution_count": 6,
     "metadata": {},
     "output_type": "execute_result"
    }
   ],
   "source": [
    "batch_size = 64\n",
    "train_dataset = create_tf_dataset(train[0], train[0], batch_size=batch_size)\n",
    "train_dataset"
   ]
  },
  {
   "cell_type": "code",
   "execution_count": 7,
   "metadata": {},
   "outputs": [
    {
     "name": "stdout",
     "output_type": "stream",
     "text": [
      "Model: \"sequential\"\n",
      "_________________________________________________________________\n",
      "Layer (type)                 Output Shape              Param #   \n",
      "=================================================================\n",
      "dense (Dense)                (None, 128)               125312    \n",
      "_________________________________________________________________\n",
      "dense_1 (Dense)              (None, 2)                 258       \n",
      "_________________________________________________________________\n",
      "dense_2 (Dense)              (None, 128)               384       \n",
      "_________________________________________________________________\n",
      "dense_3 (Dense)              (None, 978)               126162    \n",
      "=================================================================\n",
      "Total params: 252,116\n",
      "Trainable params: 252,116\n",
      "Non-trainable params: 0\n",
      "_________________________________________________________________\n"
     ]
    }
   ],
   "source": [
    "# Tensorboard stuff\n",
    "# import datetime, os\n",
    "# logdir = os.path.join(\"logs\", datetime.datetime.now().strftime(\"%Y%m%d-%H%M%S\"))\n",
    "# tensorboard_callback = tf.keras.callbacks.TensorBoard(logdir, histogram_freq=1)\n",
    "tf.random.set_seed(42)\n",
    "model = create_AE([128, 2, 128])\n",
    "model.summary()"
   ]
  },
  {
   "cell_type": "code",
   "execution_count": 8,
   "metadata": {},
   "outputs": [
    {
     "name": "stdout",
     "output_type": "stream",
     "text": [
      "Epoch 1/5\n",
      "3335/3335 [==============================] - 13s 4ms/step - loss: 0.1244 - cosine_similarity: 0.8055 - pearsons_corrcoef: 0.2874 - val_loss: 0.1007 - val_cosine_similarity: 0.8467 - val_pearsons_corrcoef: 0.2998\n",
      "Epoch 2/5\n",
      "3335/3335 [==============================] - 12s 4ms/step - loss: 0.0923 - cosine_similarity: 0.8602 - pearsons_corrcoef: 0.3676 - val_loss: 0.0778 - val_cosine_similarity: 0.8839 - val_pearsons_corrcoef: 0.3673\n",
      "Epoch 3/5\n",
      "3335/3335 [==============================] - 11s 3ms/step - loss: 0.0693 - cosine_similarity: 0.8971 - pearsons_corrcoef: 0.4154 - val_loss: 0.0624 - val_cosine_similarity: 0.9080 - val_pearsons_corrcoef: 0.4289\n",
      "Epoch 4/5\n",
      "3335/3335 [==============================] - 11s 3ms/step - loss: 0.0576 - cosine_similarity: 0.9155 - pearsons_corrcoef: 0.4487 - val_loss: 0.0518 - val_cosine_similarity: 0.9243 - val_pearsons_corrcoef: 0.4618\n",
      "Epoch 5/5\n",
      "3335/3335 [==============================] - 11s 3ms/step - loss: 0.0482 - cosine_similarity: 0.9298 - pearsons_corrcoef: 0.4912 - val_loss: 0.0451 - val_cosine_similarity: 0.9346 - val_pearsons_corrcoef: 0.4967\n"
     ]
    },
    {
     "data": {
      "text/plain": [
       "<tensorflow.python.keras.callbacks.History at 0x7f88db45d1d0>"
      ]
     },
     "execution_count": 8,
     "metadata": {},
     "output_type": "execute_result"
    }
   ],
   "source": [
    "model.fit(\n",
    "    train_dataset,\n",
    "    epochs = 5,\n",
    "    shuffle = True,\n",
    "    steps_per_epoch = train[0].shape[0] // batch_size,\n",
    "    validation_data = (val[0], val[0]),\n",
    "#     callbacks = [tensorboard_callback]\n",
    ")"
   ]
  },
  {
   "cell_type": "code",
   "execution_count": 9,
   "metadata": {},
   "outputs": [
    {
     "name": "stdout",
     "output_type": "stream",
     "text": [
      "66705/66705 [==============================] - 3s 49us/sample - loss: 0.0450 - cosine_similarity: 0.9346 - pearsons_corrcoef: 0.4877\n",
      "loss: [0.045035146408469395, 0.9345723, 0.4876899]\n"
     ]
    }
   ],
   "source": [
    "test_loss = model.evaluate(test[0], test[0])\n",
    "print(f\"loss: {test_loss}\")"
   ]
  },
  {
   "cell_type": "markdown",
   "metadata": {},
   "source": [
    "### Plotting"
   ]
  },
  {
   "cell_type": "code",
   "execution_count": 10,
   "metadata": {},
   "outputs": [],
   "source": [
    "from utils import plot_embedding2D, plot_embedding3D\n",
    "encoder = tf.keras.Model(inputs=model.layers[0].input, outputs=model.layers[1].output)\n",
    "h = encoder.predict(test[0])"
   ]
  },
  {
   "cell_type": "code",
   "execution_count": 11,
   "metadata": {},
   "outputs": [
    {
     "data": {
      "image/png": "[encoded data removed]",
      "text/plain": [
       "<Figure size 432x288 with 1 Axes>"
      ]
     },
     "metadata": {
      "needs_background": "light"
     },
     "output_type": "display_data"
    }
   ],
   "source": [
    "plot_embedding2D(h, test[1].cell_id.values, alpha=0.2)"
   ]
  },
  {
   "cell_type": "code",
   "execution_count": 12,
   "metadata": {},
   "outputs": [],
   "source": [
    "import pandas as pd\n",
    "cell_info_fname = 'GSE92742_Broad_LINCS_cell_info.txt'\n",
    "cell_meta = pd.read_csv(os.path.join(data_dir, cell_info_fname), sep='\\t', na_values = '-666')"
   ]
  },
  {
   "cell_type": "code",
   "execution_count": 13,
   "metadata": {},
   "outputs": [
    {
     "data": {
      "image/png": "[encoded data removed]",
      "text/plain": [
       "<Figure size 432x288 with 1 Axes>"
      ]
     },
     "metadata": {
      "needs_background": "light"
     },
     "output_type": "display_data"
    }
   ],
   "source": [
    "sample_counts = sample_meta['cell_id'].value_counts()\n",
    "sample_counts[sample_counts > 5000].plot(kind='bar');"
   ]
  },
  {
   "cell_type": "code",
   "execution_count": 14,
   "metadata": {},
   "outputs": [
    {
     "data": {
      "text/html": [
       "<div>\n",
       "<style scoped>\n",
       "    .dataframe tbody tr th:only-of-type {\n",
       "        vertical-align: middle;\n",
       "    }\n",
       "\n",
       "    .dataframe tbody tr th {\n",
       "        vertical-align: top;\n",
       "    }\n",
       "\n",
       "    .dataframe thead th {\n",
       "        text-align: right;\n",
       "    }\n",
       "</style>\n",
       "<table border=\"1\" class=\"dataframe\">\n",
       "  <thead>\n",
       "    <tr style=\"text-align: right;\">\n",
       "      <th></th>\n",
       "      <th>cell_id</th>\n",
       "      <th>cell_type</th>\n",
       "      <th>base_cell_id</th>\n",
       "      <th>precursor_cell_id</th>\n",
       "      <th>modification</th>\n",
       "      <th>sample_type</th>\n",
       "      <th>primary_site</th>\n",
       "      <th>subtype</th>\n",
       "      <th>original_growth_pattern</th>\n",
       "      <th>provider_catalog_id</th>\n",
       "      <th>original_source_vendor</th>\n",
       "      <th>donor_age</th>\n",
       "      <th>donor_sex</th>\n",
       "      <th>donor_ethnicity</th>\n",
       "    </tr>\n",
       "  </thead>\n",
       "  <tbody>\n",
       "    <tr>\n",
       "      <th>54</th>\n",
       "      <td>PC3</td>\n",
       "      <td>cell line</td>\n",
       "      <td>PC3</td>\n",
       "      <td>NaN</td>\n",
       "      <td>NaN</td>\n",
       "      <td>tumor</td>\n",
       "      <td>prostate</td>\n",
       "      <td>adenocarcinoma</td>\n",
       "      <td>mix</td>\n",
       "      <td>CRL-1435</td>\n",
       "      <td>ATCC</td>\n",
       "      <td>62.0</td>\n",
       "      <td>M</td>\n",
       "      <td>Caucasian</td>\n",
       "    </tr>\n",
       "    <tr>\n",
       "      <th>55</th>\n",
       "      <td>PC3.101</td>\n",
       "      <td>cell line</td>\n",
       "      <td>PC3</td>\n",
       "      <td>PC3</td>\n",
       "      <td>genetically modified to stably express Cas9 pr...</td>\n",
       "      <td>tumor</td>\n",
       "      <td>prostate</td>\n",
       "      <td>adenocarcinoma</td>\n",
       "      <td>mix</td>\n",
       "      <td>CRL-1435</td>\n",
       "      <td>ATCC</td>\n",
       "      <td>62.0</td>\n",
       "      <td>M</td>\n",
       "      <td>Caucasian</td>\n",
       "    </tr>\n",
       "    <tr>\n",
       "      <th>56</th>\n",
       "      <td>PC3.311</td>\n",
       "      <td>cell line</td>\n",
       "      <td>PC3</td>\n",
       "      <td>PC3</td>\n",
       "      <td>genetically modified to stably express Cas9 pr...</td>\n",
       "      <td>tumor</td>\n",
       "      <td>prostate</td>\n",
       "      <td>adenocarcinoma</td>\n",
       "      <td>mix</td>\n",
       "      <td>CRL-1435</td>\n",
       "      <td>ATCC</td>\n",
       "      <td>62.0</td>\n",
       "      <td>M</td>\n",
       "      <td>Caucasian</td>\n",
       "    </tr>\n",
       "  </tbody>\n",
       "</table>\n",
       "</div>"
      ],
      "text/plain": [
       "    cell_id  cell_type base_cell_id precursor_cell_id  \\\n",
       "54      PC3  cell line          PC3               NaN   \n",
       "55  PC3.101  cell line          PC3               PC3   \n",
       "56  PC3.311  cell line          PC3               PC3   \n",
       "\n",
       "                                         modification sample_type  \\\n",
       "54                                                NaN       tumor   \n",
       "55  genetically modified to stably express Cas9 pr...       tumor   \n",
       "56  genetically modified to stably express Cas9 pr...       tumor   \n",
       "\n",
       "   primary_site         subtype original_growth_pattern provider_catalog_id  \\\n",
       "54     prostate  adenocarcinoma                     mix            CRL-1435   \n",
       "55     prostate  adenocarcinoma                     mix            CRL-1435   \n",
       "56     prostate  adenocarcinoma                     mix            CRL-1435   \n",
       "\n",
       "   original_source_vendor  donor_age donor_sex donor_ethnicity  \n",
       "54                   ATCC       62.0         M       Caucasian  \n",
       "55                   ATCC       62.0         M       Caucasian  \n",
       "56                   ATCC       62.0         M       Caucasian  "
      ]
     },
     "execution_count": 14,
     "metadata": {},
     "output_type": "execute_result"
    }
   ],
   "source": [
    "cell_meta[cell_meta.base_cell_id == 'PC3']"
   ]
  }
 ],
 "metadata": {
  "kernelspec": {
   "display_name": "Python 3",
   "language": "python",
   "name": "python3"
  },
  "language_info": {
   "codemirror_mode": {
    "name": "ipython",
    "version": 3
   },
   "file_extension": ".py",
   "mimetype": "text/x-python",
   "name": "python",
   "nbconvert_exporter": "python",
   "pygments_lexer": "ipython3",
   "version": "3.6.8"
  }
 },
 "nbformat": 4,
 "nbformat_minor": 4
}
