{
 "cells": [
  {
   "cell_type": "code",
   "execution_count": 1,
   "metadata": {},
   "outputs": [
    {
     "name": "stdout",
     "output_type": "stream",
     "text": [
      "tensorflow: 2.0.0-beta0\n",
      "keras: 2.2.4-tf\n"
     ]
    }
   ],
   "source": [
    "%load_ext autoreload\n",
    "%autoreload 2\n",
    "\n",
    "import tensorflow as tf\n",
    "import umap\n",
    "import numpy as np\n",
    "import pandas as pd\n",
    "import matplotlib.pyplot as plt\n",
    "from utils import load_data, split_data\n",
    "import os\n",
    "\n",
    "print(f\"tensorflow: {tf.__version__}\")\n",
    "print(f\"keras: {tf.keras.__version__}\")"
   ]
  },
  {
   "cell_type": "code",
   "execution_count": 2,
   "metadata": {},
   "outputs": [
    {
     "name": "stdout",
     "output_type": "stream",
     "text": [
      "env: DATA_DIR=../data/GSE92742_Broad_LINCS\n"
     ]
    }
   ],
   "source": [
    "%env DATA_DIR ../data/GSE92742_Broad_LINCS\n",
    "\n",
    "data_dir = os.environ['DATA_DIR']\n",
    "\n",
    "# data_fname = 'GSE92742_Broad_LINCS_Level4_ZSPCINF_mlr12k_n1319138x12328.gctx' # Level 4 data\n",
    "data_fname = 'GSE92742_Broad_LINCS_Level3_INF_mlr12k_n1319138x12328.gctx' # Level 3 data\n",
    "data_path = os.path.join(data_dir, data_fname)\n",
    "\n",
    "sample_meta_fname = 'GSE92742_Broad_LINCS_inst_info.txt'\n",
    "sample_meta_path = os.path.join(data_dir, sample_meta_fname)"
   ]
  },
  {
   "cell_type": "code",
   "execution_count": 3,
   "metadata": {},
   "outputs": [
    {
     "name": "stdout",
     "output_type": "stream",
     "text": [
      "data size: (234571, 978)\n"
     ]
    }
   ],
   "source": [
    "# Read in raw data, selecting for cells by treatment and cell line\n",
    "\n",
    "pert_types = [\n",
    "    'trt_cp',       # treated with compound\n",
    "    'ctl_vehicle',  # control for compound treatment (e.g DMSO) \n",
    "    'ctl_untrt'     # untreated samples\n",
    "]\n",
    "\n",
    "cell_ids = [\n",
    "    'VCAP', # prostate tumor\n",
    "    'MCF7', # breast tumor\n",
    "    #'PC3',  # prostate tumor\n",
    "]\n",
    "\n",
    "# Load Data\n",
    "sample_meta, gene_labels, data = load_data(data_path, sample_meta_path, pert_types, cell_ids)\n",
    "\n",
    "# Normalize expression between 0-1 per gene\n",
    "# TODO: implement this normalization per batch during training\n",
    "data_normed = data / data.max(0)\n",
    "\n",
    "print(f\"data size: {data.shape}\")"
   ]
  },
  {
   "cell_type": "code",
   "execution_count": 4,
   "metadata": {},
   "outputs": [
    {
     "name": "stdout",
     "output_type": "stream",
     "text": [
      "training size:   150,124\n",
      "validation size: 37,532\n",
      "testing size:    46,915\n"
     ]
    }
   ],
   "source": [
    "# Split data into training, validation, and testing\n",
    "train, val, test = split_data(data_normed, sample_meta, 0.2)\n",
    "\n",
    "print(f\"training size:   {train[0].shape[0]:,}\")\n",
    "print(f\"validation size: {val[0].shape[0]:,}\")\n",
    "print(f\"testing size:    {test[0].shape[0]:,}\")"
   ]
  },
  {
   "cell_type": "code",
   "execution_count": 5,
   "metadata": {},
   "outputs": [],
   "source": [
    "from tensorflow.keras import Sequential, layers\n",
    "from metrics import PearsonsR\n",
    "\n",
    "def create_AE(hidden_layers, activation='relu', optimizer='adam', out_size=978):\n",
    "    model = Sequential()\n",
    "    model.add(layers.Dense(hidden_layers[0], activation=activation, input_shape=(out_size,)))\n",
    "\n",
    "    for nunits in hidden_layers[1:]:\n",
    "        model.add(layers.Dense(nunits, activation=activation))\n",
    "        \n",
    "    model.add(layers.Dense(out_size, activation='relu'))\n",
    "    \n",
    "    model.compile(\n",
    "        optimizer = optimizer, \n",
    "        loss = 'mean_squared_error',\n",
    "        metrics = [\n",
    "            tf.keras.metrics.CosineSimilarity(),\n",
    "            PearsonsR() # custom correlation metric\n",
    "        ] \n",
    "    )\n",
    "    \n",
    "    return model\n",
    "\n",
    "def create_tf_dataset(X, y, shuffle=True, repeated=True, batch_size=32):\n",
    "    dataset = tf.data.Dataset.from_tensor_slices((X,y))\n",
    "    if repeated:\n",
    "        dataset = dataset.repeat()\n",
    "    if shuffle:\n",
    "        dataset = dataset.shuffle(buffer_size = X.shape[0])\n",
    "    dataset = dataset.batch(batch_size)\n",
    "    # `prefetch` lets the dataset fetch batches, in the background while the model is training.\n",
    "    dataset = dataset.prefetch(buffer_size = tf.data.experimental.AUTOTUNE)\n",
    "    return dataset"
   ]
  },
  {
   "cell_type": "code",
   "execution_count": 6,
   "metadata": {},
   "outputs": [
    {
     "data": {
      "text/plain": [
       "<PrefetchDataset shapes: ((None, 978), (None, 978)), types: (tf.float32, tf.float32)>"
      ]
     },
     "execution_count": 6,
     "metadata": {},
     "output_type": "execute_result"
    }
   ],
   "source": [
    "batch_size = 64\n",
    "train_dataset = create_tf_dataset(train[0], train[0], batch_size=batch_size)\n",
    "train_dataset"
   ]
  },
  {
   "cell_type": "code",
   "execution_count": 7,
   "metadata": {},
   "outputs": [
    {
     "name": "stdout",
     "output_type": "stream",
     "text": [
      "Model: \"sequential\"\n",
      "_________________________________________________________________\n",
      "Layer (type)                 Output Shape              Param #   \n",
      "=================================================================\n",
      "dense (Dense)                (None, 128)               125312    \n",
      "_________________________________________________________________\n",
      "dense_1 (Dense)              (None, 2)                 258       \n",
      "_________________________________________________________________\n",
      "dense_2 (Dense)              (None, 128)               384       \n",
      "_________________________________________________________________\n",
      "dense_3 (Dense)              (None, 978)               126162    \n",
      "=================================================================\n",
      "Total params: 252,116\n",
      "Trainable params: 252,116\n",
      "Non-trainable params: 0\n",
      "_________________________________________________________________\n"
     ]
    }
   ],
   "source": [
    "# Tensorboard stuff\n",
    "# import datetime, os\n",
    "# logdir = os.path.join(\"logs\", datetime.datetime.now().strftime(\"%Y%m%d-%H%M%S\"))\n",
    "# tensorboard_callback = tf.keras.callbacks.TensorBoard(logdir, histogram_freq=1)\n",
    "tf.random.set_seed(42)\n",
    "model = create_AE([128, 2, 128])\n",
    "model.summary()"
   ]
  },
  {
   "cell_type": "code",
   "execution_count": 8,
   "metadata": {},
   "outputs": [
    {
     "name": "stdout",
     "output_type": "stream",
     "text": [
      "Epoch 1/5\n",
      "2345/2345 [==============================] - 9s 4ms/step - loss: 0.1487 - cosine_similarity: 0.7683 - pearsons_corrcoef: 0.2541 - val_loss: 0.1311 - val_cosine_similarity: 0.7995 - val_pearsons_corrcoef: 0.2644\n",
      "Epoch 2/5\n",
      "2345/2345 [==============================] - 8s 3ms/step - loss: 0.1226 - cosine_similarity: 0.8141 - pearsons_corrcoef: 0.2917 - val_loss: 0.1174 - val_cosine_similarity: 0.8227 - val_pearsons_corrcoef: 0.2947\n",
      "Epoch 3/5\n",
      "2345/2345 [==============================] - 8s 3ms/step - loss: 0.1107 - cosine_similarity: 0.8338 - pearsons_corrcoef: 0.3067 - val_loss: 0.1048 - val_cosine_similarity: 0.8435 - val_pearsons_corrcoef: 0.3157\n",
      "Epoch 4/5\n",
      "2345/2345 [==============================] - 8s 3ms/step - loss: 0.0964 - cosine_similarity: 0.8571 - pearsons_corrcoef: 0.3480 - val_loss: 0.0898 - val_cosine_similarity: 0.8678 - val_pearsons_corrcoef: 0.3553\n",
      "Epoch 5/5\n",
      "2345/2345 [==============================] - 8s 3ms/step - loss: 0.0865 - cosine_similarity: 0.8729 - pearsons_corrcoef: 0.3786 - val_loss: 0.0807 - val_cosine_similarity: 0.8820 - val_pearsons_corrcoef: 0.3763\n"
     ]
    },
    {
     "data": {
      "text/plain": [
       "<tensorflow.python.keras.callbacks.History at 0x7f1ca9c77278>"
      ]
     },
     "execution_count": 8,
     "metadata": {},
     "output_type": "execute_result"
    }
   ],
   "source": [
    "model.fit(\n",
    "    train_dataset,\n",
    "    epochs = 5,\n",
    "    shuffle = True,\n",
    "    steps_per_epoch = train[0].shape[0] // batch_size,\n",
    "    validation_data = (val[0], val[0]),\n",
    "#     callbacks = [tensorboard_callback]\n",
    ")"
   ]
  },
  {
   "cell_type": "code",
   "execution_count": 9,
   "metadata": {},
   "outputs": [
    {
     "name": "stdout",
     "output_type": "stream",
     "text": [
      "46915/46915 [==============================] - 2s 41us/sample - loss: 0.0807 - cosine_similarity: 0.8820 - pearsons_corrcoef: 0.3578\n",
      "loss: [0.08074068922240203, 0.88202786, 0.35783258]\n"
     ]
    }
   ],
   "source": [
    "test_loss = model.evaluate(test[0], test[0])\n",
    "print(f\"loss: {test_loss}\")"
   ]
  },
  {
   "cell_type": "markdown",
   "metadata": {},
   "source": [
    "### Plotting"
   ]
  },
  {
   "cell_type": "code",
   "execution_count": 10,
   "metadata": {},
   "outputs": [],
   "source": [
    "from utils import plot_embedding2D, plot_embedding3D\n",
    "encoder = tf.keras.Model(inputs=model.layers[0].input, outputs=model.layers[1].output)\n",
    "h = encoder.predict(test[0])"
   ]
  },
  {
   "cell_type": "code",
   "execution_count": null,
   "metadata": {},
   "outputs": [],
   "source": [
    "plot_embedding2D(h, test[1].cell_id.values, alpha=0.2)"
   ]
  },
  {
   "cell_type": "markdown",
   "metadata": {},
   "source": [
    "### Inspect most activating samples"
   ]
  },
  {
   "cell_type": "code",
   "execution_count": null,
   "metadata": {},
   "outputs": [],
   "source": [
    "embedded = pd.DataFrame({\n",
    "    'latent_1': h[:,0], \n",
    "    'latent_2': h[:,1], \n",
    "    'cell_id': test[1].cell_id, \n",
    "    'inst_id': test[1].inst_id\n",
    "}).reset_index()\n",
    "embedded.head()"
   ]
  },
  {
   "cell_type": "code",
   "execution_count": null,
   "metadata": {},
   "outputs": [],
   "source": [
    "vcap_embed = embedded[embedded.cell_id == 'VCAP']\n",
    "least_activating_ids = vcap_embed.sort_values(by=['latent_1'])[:100].inst_id.values\n",
    "least_activating_ids[:5]"
   ]
  },
  {
   "cell_type": "code",
   "execution_count": null,
   "metadata": {},
   "outputs": [],
   "source": [
    "mcf7_embed = embedded[embedded.cell_id == 'MCF7']\n",
    "most_activating = mcf7_embed.sort_values(by=['latent_1'], ascending=False)[:100].inst_id.values\n",
    "most_activating[:5]"
   ]
  },
  {
   "cell_type": "markdown",
   "metadata": {},
   "source": [
    "### Cell-type meta data"
   ]
  },
  {
   "cell_type": "code",
   "execution_count": null,
   "metadata": {},
   "outputs": [],
   "source": [
    "cell_info_fname = 'GSE92742_Broad_LINCS_cell_info.txt'\n",
    "cell_meta = pd.read_csv(os.path.join(data_dir, cell_info_fname), sep='\\t', na_values = '-666')"
   ]
  },
  {
   "cell_type": "code",
   "execution_count": null,
   "metadata": {},
   "outputs": [],
   "source": [
    "sample_counts = sample_meta['cell_id'].value_counts()\n",
    "sample_counts[sample_counts > 5000].plot(kind='bar');"
   ]
  },
  {
   "cell_type": "code",
   "execution_count": null,
   "metadata": {},
   "outputs": [],
   "source": [
    "cell_meta[cell_meta.base_cell_id == 'PC3']"
   ]
  },
  {
   "cell_type": "code",
   "execution_count": null,
   "metadata": {},
   "outputs": [],
   "source": []
  },
  {
   "cell_type": "code",
   "execution_count": null,
   "metadata": {},
   "outputs": [],
   "source": []
  },
  {
   "cell_type": "code",
   "execution_count": null,
   "metadata": {},
   "outputs": [],
   "source": []
  }
 ],
 "metadata": {
  "kernelspec": {
   "display_name": "Python 3",
   "language": "python",
   "name": "python3"
  },
  "language_info": {
   "codemirror_mode": {
    "name": "ipython",
    "version": 3
   },
   "file_extension": ".py",
   "mimetype": "text/x-python",
   "name": "python",
   "nbconvert_exporter": "python",
   "pygments_lexer": "ipython3",
   "version": "3.6.8"
  }
 },
 "nbformat": 4,
 "nbformat_minor": 4
}
