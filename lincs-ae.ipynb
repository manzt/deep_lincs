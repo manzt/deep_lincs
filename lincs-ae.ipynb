{
 "cells": [
  {
   "cell_type": "code",
   "execution_count": 1,
   "metadata": {},
   "outputs": [],
   "source": [
    "%load_ext autoreload\n",
    "%autoreload 2"
   ]
  },
  {
   "cell_type": "code",
   "execution_count": 2,
   "metadata": {},
   "outputs": [
    {
     "name": "stdout",
     "output_type": "stream",
     "text": [
      "tensorflow: 2.0.0-beta0\n",
      "keras: 2.2.4-tf\n"
     ]
    }
   ],
   "source": [
    "import tensorflow as tf\n",
    "import umap\n",
    "import numpy as np\n",
    "import pandas as pd\n",
    "import matplotlib.pyplot as plt\n",
    "from lib.utils import load_data, split_data, create_tf_dataset\n",
    "import os\n",
    "\n",
    "print(f\"tensorflow: {tf.__version__}\")\n",
    "print(f\"keras: {tf.keras.__version__}\")"
   ]
  },
  {
   "cell_type": "code",
   "execution_count": 3,
   "metadata": {},
   "outputs": [
    {
     "name": "stdout",
     "output_type": "stream",
     "text": [
      "env: DATA_DIR=../data/GSE92742_Broad_LINCS\n"
     ]
    }
   ],
   "source": [
    "%env DATA_DIR ../data/GSE92742_Broad_LINCS\n",
    "\n",
    "data_dir = os.environ['DATA_DIR']\n",
    "\n",
    "# data_fname = 'GSE92742_Broad_LINCS_Level4_ZSPCINF_mlr12k_n1319138x12328.gctx' # Level 4 data\n",
    "data_fname = 'GSE92742_Broad_LINCS_Level3_INF_mlr12k_n1319138x12328.gctx' # Level 3 data\n",
    "data_path = os.path.join(data_dir, data_fname)\n",
    "\n",
    "sample_meta_fname = 'GSE92742_Broad_LINCS_inst_info.txt'\n",
    "sample_meta_path = os.path.join(data_dir, sample_meta_fname)"
   ]
  },
  {
   "cell_type": "code",
   "execution_count": 4,
   "metadata": {},
   "outputs": [
    {
     "name": "stdout",
     "output_type": "stream",
     "text": [
      "data size: 333,523\n",
      "n_genes: 978\n"
     ]
    }
   ],
   "source": [
    "# Read in raw data, selecting for cells by treatment and cell line\n",
    "\n",
    "pert_types = [\n",
    "    'trt_cp',       # treated with compound\n",
    "    'ctl_vehicle',  # control for compound treatment (e.g DMSO) \n",
    "    'ctl_untrt'     # untreated samples\n",
    "]\n",
    "\n",
    "cell_ids = [\n",
    "    'VCAP', # prostate tumor\n",
    "    'MCF7', # breast tumor\n",
    "    'PC3',  # prostate tumor\n",
    "]\n",
    "\n",
    "# Load Data\n",
    "data, sample_meta, gene_labels = load_data(data_path, sample_meta_path, pert_types, cell_ids)\n",
    "\n",
    "# Normalize expression between 0-1 per gene\n",
    "# TODO: implement this normalization per batch during training\n",
    "data_normed = data / data.max(0)\n",
    "\n",
    "print(f\"data size: {data.shape[0]:,}\")\n",
    "print(f\"n_genes: {data.shape[1]}\")"
   ]
  },
  {
   "cell_type": "code",
   "execution_count": 5,
   "metadata": {},
   "outputs": [
    {
     "name": "stdout",
     "output_type": "stream",
     "text": [
      "training size:   213,454\n",
      "validation size: 53,364\n",
      "testing size:    66,705\n"
     ]
    }
   ],
   "source": [
    "# Split data into training, validation, and testing\n",
    "train, val, test = split_data(data_normed, sample_meta, 0.2)\n",
    "\n",
    "print(f\"training size:   {train[0].shape[0]:,}\")\n",
    "print(f\"validation size: {val[0].shape[0]:,}\")\n",
    "print(f\"testing size:    {test[0].shape[0]:,}\")"
   ]
  },
  {
   "cell_type": "code",
   "execution_count": 6,
   "metadata": {},
   "outputs": [
    {
     "data": {
      "text/plain": [
       "<PrefetchDataset shapes: ((None, 978), (None, 978)), types: (tf.float32, tf.float32)>"
      ]
     },
     "execution_count": 6,
     "metadata": {},
     "output_type": "execute_result"
    }
   ],
   "source": [
    "batch_size = 64\n",
    "train_dataset = create_tf_dataset(train[0].values, train[0].values, batch_size=batch_size)\n",
    "train_dataset"
   ]
  },
  {
   "cell_type": "code",
   "execution_count": 7,
   "metadata": {},
   "outputs": [
    {
     "name": "stdout",
     "output_type": "stream",
     "text": [
      "Model: \"sequential\"\n",
      "_________________________________________________________________\n",
      "Layer (type)                 Output Shape              Param #   \n",
      "=================================================================\n",
      "dense (Dense)                (None, 128)               125312    \n",
      "_________________________________________________________________\n",
      "dense_1 (Dense)              (None, 2)                 258       \n",
      "_________________________________________________________________\n",
      "dense_2 (Dense)              (None, 128)               384       \n",
      "_________________________________________________________________\n",
      "dense_3 (Dense)              (None, 978)               126162    \n",
      "=================================================================\n",
      "Total params: 252,116\n",
      "Trainable params: 252,116\n",
      "Non-trainable params: 0\n",
      "_________________________________________________________________\n"
     ]
    }
   ],
   "source": [
    "# Tensorboard stuff\n",
    "# import datetime, os\n",
    "# logdir = os.path.join(\"logs\", datetime.datetime.now().strftime(\"%Y%m%d-%H%M%S\"))\n",
    "# tensorboard_callback = tf.keras.callbacks.TensorBoard(logdir, histogram_freq=1)\n",
    "\n",
    "from lib.models import create_AE\n",
    "tf.random.set_seed(42)\n",
    "model = create_AE([128, 2, 128])\n",
    "model.summary()"
   ]
  },
  {
   "cell_type": "code",
   "execution_count": null,
   "metadata": {},
   "outputs": [
    {
     "name": "stdout",
     "output_type": "stream",
     "text": [
      "Epoch 1/5\n",
      "3335/3335 [==============================] - 13s 4ms/step - loss: 0.1305 - cosine_similarity: 0.7949 - pearsons_corrcoef: 0.2910 - val_loss: 0.1086 - val_cosine_similarity: 0.8333 - val_pearsons_corrcoef: 0.2913\n",
      "Epoch 2/5\n",
      "3335/3335 [==============================] - 11s 3ms/step - loss: 0.0900 - cosine_similarity: 0.8640 - pearsons_corrcoef: 0.3718 - val_loss: 0.0774 - val_cosine_similarity: 0.8844 - val_pearsons_corrcoef: 0.3688\n",
      "Epoch 3/5\n",
      "3335/3335 [==============================] - 11s 3ms/step - loss: 0.0690 - cosine_similarity: 0.8977 - pearsons_corrcoef: 0.4164 - val_loss: 0.0612 - val_cosine_similarity: 0.9099 - val_pearsons_corrcoef: 0.4117\n",
      "Epoch 4/5\n",
      "3328/3335 [============================>.] - ETA: 0s - loss: 0.0560 - cosine_similarity: 0.9179 - pearsons_corrcoef: 0.4601"
     ]
    }
   ],
   "source": [
    "model.fit(\n",
    "    train_dataset,\n",
    "    epochs = 5,\n",
    "    shuffle = True,\n",
    "    steps_per_epoch = train[0].shape[0] // batch_size,\n",
    "    validation_data = (val[0].values, val[0].values),\n",
    "#     callbacks = [tensorboard_callback]\n",
    ")"
   ]
  },
  {
   "cell_type": "code",
   "execution_count": null,
   "metadata": {},
   "outputs": [],
   "source": [
    "test_loss = model.evaluate(test[0].values, test[0].values)\n",
    "print(f\"loss: {test_loss}\")"
   ]
  },
  {
   "cell_type": "markdown",
   "metadata": {},
   "source": [
    "### Plotting"
   ]
  },
  {
   "cell_type": "code",
   "execution_count": null,
   "metadata": {},
   "outputs": [],
   "source": [
    "from lib.utils import plot_embedding2D, plot_embedding3D\n",
    "encoder = tf.keras.Model(inputs=model.layers[0].input, outputs=model.layers[1].output)\n",
    "h = encoder.predict(test[0])"
   ]
  },
  {
   "cell_type": "code",
   "execution_count": null,
   "metadata": {},
   "outputs": [],
   "source": [
    "plot_embedding2D(h, test[1].cell_id.values, alpha=0.2)"
   ]
  },
  {
   "cell_type": "markdown",
   "metadata": {},
   "source": [
    "### Inspect most activating samples"
   ]
  },
  {
   "cell_type": "code",
   "execution_count": null,
   "metadata": {},
   "outputs": [],
   "source": [
    "import altair as alt\n",
    "alt.data_transformers.enable('data_server')"
   ]
  },
  {
   "cell_type": "code",
   "execution_count": null,
   "metadata": {},
   "outputs": [],
   "source": [
    "df = pd.DataFrame({\n",
    "    'unit_1': h[:,0], \n",
    "    'unit_2': h[:,1],\n",
    "    'cell_id': test[1].cell_id.values\n",
    "})\n",
    "\n",
    "alt.Chart(df).mark_circle(opacity=0.2).encode(\n",
    "    x='unit_1:Q',\n",
    "    y='unit_2:Q',\n",
    "    color='cell_id:N'\n",
    ")"
   ]
  },
  {
   "cell_type": "markdown",
   "metadata": {},
   "source": [
    "### Cell-type meta data"
   ]
  },
  {
   "cell_type": "code",
   "execution_count": null,
   "metadata": {},
   "outputs": [],
   "source": [
    "cell_info_fname = 'GSE92742_Broad_LINCS_cell_info.txt'\n",
    "cell_meta = pd.read_csv(os.path.join(data_dir, cell_info_fname), sep='\\t', na_values = '-666')"
   ]
  },
  {
   "cell_type": "code",
   "execution_count": null,
   "metadata": {},
   "outputs": [],
   "source": [
    "sample_counts = sample_meta['cell_id'].value_counts()\n",
    "sample_counts[sample_counts > 5000].plot(kind='bar');"
   ]
  },
  {
   "cell_type": "code",
   "execution_count": null,
   "metadata": {},
   "outputs": [],
   "source": [
    "cell_meta[cell_meta.base_cell_id == 'PC3']"
   ]
  },
  {
   "cell_type": "code",
   "execution_count": null,
   "metadata": {},
   "outputs": [],
   "source": []
  }
 ],
 "metadata": {
  "kernelspec": {
   "display_name": "Python 3",
   "language": "python",
   "name": "python3"
  },
  "language_info": {
   "codemirror_mode": {
    "name": "ipython",
    "version": 3
   },
   "file_extension": ".py",
   "mimetype": "text/x-python",
   "name": "python",
   "nbconvert_exporter": "python",
   "pygments_lexer": "ipython3",
   "version": "3.6.8"
  }
 },
 "nbformat": 4,
 "nbformat_minor": 4
}
