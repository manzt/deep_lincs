{
 "cells": [
  {
   "cell_type": "code",
   "execution_count": 1,
   "metadata": {},
   "outputs": [],
   "source": [
    "%load_ext autoreload\n",
    "%autoreload 2"
   ]
  },
  {
   "cell_type": "code",
   "execution_count": 2,
   "metadata": {},
   "outputs": [
    {
     "name": "stdout",
     "output_type": "stream",
     "text": [
      "tensorflow: 2.0.0-beta0\n",
      "keras: 2.2.4-tf\n"
     ]
    }
   ],
   "source": [
    "import tensorflow as tf\n",
    "import umap\n",
    "import numpy as np\n",
    "import pandas as pd\n",
    "import matplotlib.pyplot as plt\n",
    "from lib.utils import load_data, split_data, create_tf_dataset\n",
    "import os\n",
    "\n",
    "print(f\"tensorflow: {tf.__version__}\")\n",
    "print(f\"keras: {tf.keras.__version__}\")"
   ]
  },
  {
   "cell_type": "code",
   "execution_count": 3,
   "metadata": {},
   "outputs": [
    {
     "name": "stdout",
     "output_type": "stream",
     "text": [
      "env: DATA_DIR=../data/GSE92742_Broad_LINCS\n"
     ]
    }
   ],
   "source": [
    "%env DATA_DIR ../data/GSE92742_Broad_LINCS\n",
    "\n",
    "data_dir = os.environ['DATA_DIR']\n",
    "\n",
    "# data_fname = 'GSE92742_Broad_LINCS_Level4_ZSPCINF_mlr12k_n1319138x12328.gctx' # Level 4 data\n",
    "data_fname = 'GSE92742_Broad_LINCS_Level3_INF_mlr12k_n1319138x12328.gctx' # Level 3 data\n",
    "data_path = os.path.join(data_dir, data_fname)\n",
    "\n",
    "sample_meta_fname = 'GSE92742_Broad_LINCS_inst_info.txt'\n",
    "sample_meta_path = os.path.join(data_dir, sample_meta_fname)"
   ]
  },
  {
   "cell_type": "code",
   "execution_count": 4,
   "metadata": {},
   "outputs": [
    {
     "name": "stdout",
     "output_type": "stream",
     "text": [
      "data size: 333,523\n",
      "n_genes: 978\n"
     ]
    }
   ],
   "source": [
    "# Read in raw data, selecting for cells by treatment and cell line\n",
    "\n",
    "pert_types = [\n",
    "    'trt_cp',       # treated with compound\n",
    "    'ctl_vehicle',  # control for compound treatment (e.g DMSO) \n",
    "    'ctl_untrt'     # untreated samples\n",
    "]\n",
    "\n",
    "cell_ids = [\n",
    "    'VCAP', # prostate tumor\n",
    "    'MCF7', # breast tumor\n",
    "    'PC3',  # prostate tumor\n",
    "]\n",
    "\n",
    "# Load Data\n",
    "sample_meta, gene_labels, data = load_data(data_path, sample_meta_path, pert_types, cell_ids)\n",
    "\n",
    "# Normalize expression between 0-1 per gene\n",
    "# TODO: implement this normalization per batch during training\n",
    "data_normed = data / data.max(0)\n",
    "\n",
    "print(f\"data size: {data.shape[0]:,}\")\n",
    "print(f\"n_genes: {data.shape[1]}\")"
   ]
  },
  {
   "cell_type": "code",
   "execution_count": 5,
   "metadata": {},
   "outputs": [
    {
     "name": "stdout",
     "output_type": "stream",
     "text": [
      "training size:   213,454\n",
      "validation size: 53,364\n",
      "testing size:    66,705\n"
     ]
    }
   ],
   "source": [
    "# Split data into training, validation, and testing\n",
    "train, val, test = split_data(data_normed, sample_meta, 0.2)\n",
    "\n",
    "print(f\"training size:   {train[0].shape[0]:,}\")\n",
    "print(f\"validation size: {val[0].shape[0]:,}\")\n",
    "print(f\"testing size:    {test[0].shape[0]:,}\")"
   ]
  },
  {
   "cell_type": "code",
   "execution_count": 6,
   "metadata": {},
   "outputs": [
    {
     "data": {
      "text/plain": [
       "<PrefetchDataset shapes: ((None, 978), (None, 978)), types: (tf.float32, tf.float32)>"
      ]
     },
     "execution_count": 6,
     "metadata": {},
     "output_type": "execute_result"
    }
   ],
   "source": [
    "batch_size = 64\n",
    "train_dataset = create_tf_dataset(train[0].values, train[0].values, batch_size=batch_size)\n",
    "train_dataset"
   ]
  },
  {
   "cell_type": "code",
   "execution_count": 7,
   "metadata": {},
   "outputs": [
    {
     "name": "stdout",
     "output_type": "stream",
     "text": [
      "Model: \"sequential\"\n",
      "_________________________________________________________________\n",
      "Layer (type)                 Output Shape              Param #   \n",
      "=================================================================\n",
      "dense (Dense)                (None, 128)               125312    \n",
      "_________________________________________________________________\n",
      "dense_1 (Dense)              (None, 2)                 258       \n",
      "_________________________________________________________________\n",
      "dense_2 (Dense)              (None, 128)               384       \n",
      "_________________________________________________________________\n",
      "dense_3 (Dense)              (None, 978)               126162    \n",
      "=================================================================\n",
      "Total params: 252,116\n",
      "Trainable params: 252,116\n",
      "Non-trainable params: 0\n",
      "_________________________________________________________________\n"
     ]
    }
   ],
   "source": [
    "# Tensorboard stuff\n",
    "# import datetime, os\n",
    "# logdir = os.path.join(\"logs\", datetime.datetime.now().strftime(\"%Y%m%d-%H%M%S\"))\n",
    "# tensorboard_callback = tf.keras.callbacks.TensorBoard(logdir, histogram_freq=1)\n",
    "\n",
    "from lib.models import create_AE\n",
    "tf.random.set_seed(42)\n",
    "model = create_AE([128, 2, 128])\n",
    "model.summary()"
   ]
  },
  {
   "cell_type": "code",
   "execution_count": 8,
   "metadata": {},
   "outputs": [
    {
     "name": "stdout",
     "output_type": "stream",
     "text": [
      "Epoch 1/5\n",
      "3335/3335 [==============================] - 13s 4ms/step - loss: 0.1316 - cosine_similarity: 0.7931 - pearsons_corrcoef: 0.3068 - val_loss: 0.1063 - val_cosine_similarity: 0.8371 - val_pearsons_corrcoef: 0.3057\n",
      "Epoch 2/5\n",
      "3335/3335 [==============================] - 11s 3ms/step - loss: 0.0854 - cosine_similarity: 0.8714 - pearsons_corrcoef: 0.3960 - val_loss: 0.0724 - val_cosine_similarity: 0.8922 - val_pearsons_corrcoef: 0.3902\n",
      "Epoch 3/5\n",
      "3335/3335 [==============================] - 11s 3ms/step - loss: 0.0651 - cosine_similarity: 0.9037 - pearsons_corrcoef: 0.4306 - val_loss: 0.0565 - val_cosine_similarity: 0.9170 - val_pearsons_corrcoef: 0.4268\n",
      "Epoch 4/5\n",
      "3335/3335 [==============================] - 11s 3ms/step - loss: 0.0513 - cosine_similarity: 0.9250 - pearsons_corrcoef: 0.4678 - val_loss: 0.0479 - val_cosine_similarity: 0.9302 - val_pearsons_corrcoef: 0.4760\n",
      "Epoch 5/5\n",
      "3335/3335 [==============================] - 11s 3ms/step - loss: 0.0445 - cosine_similarity: 0.9354 - pearsons_corrcoef: 0.5203 - val_loss: 0.0409 - val_cosine_similarity: 0.9407 - val_pearsons_corrcoef: 0.5083\n"
     ]
    },
    {
     "data": {
      "text/plain": [
       "<tensorflow.python.keras.callbacks.History at 0x7fb13e65f668>"
      ]
     },
     "execution_count": 8,
     "metadata": {},
     "output_type": "execute_result"
    }
   ],
   "source": [
    "model.fit(\n",
    "    train_dataset,\n",
    "    epochs = 5,\n",
    "    shuffle = True,\n",
    "    steps_per_epoch = train[0].shape[0] // batch_size,\n",
    "    validation_data = (val[0].values, val[0].values),\n",
    "#     callbacks = [tensorboard_callback]\n",
    ")"
   ]
  },
  {
   "cell_type": "code",
   "execution_count": 9,
   "metadata": {},
   "outputs": [
    {
     "name": "stdout",
     "output_type": "stream",
     "text": [
      "66705/66705 [==============================] - 3s 47us/sample - loss: 0.0409 - cosine_similarity: 0.9407 - pearsons_corrcoef: 0.5046\n",
      "loss: [0.040947982598062344, 0.9406916, 0.5045911]\n"
     ]
    }
   ],
   "source": [
    "test_loss = model.evaluate(test[0].values, test[0].values)\n",
    "print(f\"loss: {test_loss}\")"
   ]
  },
  {
   "cell_type": "markdown",
   "metadata": {},
   "source": [
    "### Plotting"
   ]
  },
  {
   "cell_type": "code",
   "execution_count": 10,
   "metadata": {},
   "outputs": [],
   "source": [
    "from lib.utils import plot_embedding2D, plot_embedding3D\n",
    "encoder = tf.keras.Model(inputs=model.layers[0].input, outputs=model.layers[1].output)\n",
    "h = encoder.predict(test[0])"
   ]
  },
  {
   "cell_type": "code",
   "execution_count": 11,
   "metadata": {},
   "outputs": [
    {
     "data": {
      "image/png": "[encoded data removed]",
      "text/plain": [
       "<Figure size 432x288 with 1 Axes>"
      ]
     },
     "metadata": {
      "needs_background": "light"
     },
     "output_type": "display_data"
    }
   ],
   "source": [
    "plot_embedding2D(h, test[1].cell_id.values, alpha=0.2)"
   ]
  },
  {
   "cell_type": "markdown",
   "metadata": {},
   "source": [
    "### Inspect most activating samples"
   ]
  },
  {
   "cell_type": "code",
   "execution_count": 12,
   "metadata": {},
   "outputs": [
    {
     "data": {
      "text/plain": [
       "DataTransformerRegistry.enable('data_server')"
      ]
     },
     "execution_count": 12,
     "metadata": {},
     "output_type": "execute_result"
    }
   ],
   "source": [
    "import altair as alt\n",
    "alt.data_transformers.enable('data_server')"
   ]
  },
  {
   "cell_type": "code",
   "execution_count": 13,
   "metadata": {},
   "outputs": [
    {
     "data": {
      "application/vnd.vegalite.v3+json": {
       "$schema": "https://vega.github.io/schema/vega-lite/v3.3.0.json",
       "config": {
        "mark": {
         "tooltip": null
        },
        "view": {
         "height": 300,
         "width": 400
        }
       },
       "data": {
        "url": "http://localhost:22657/ab7a781d-38c4-4568-aaed-e8e4c3e0bcba.json"
       },
       "encoding": {
        "color": {
         "field": "cell_id",
         "type": "nominal"
        },
        "x": {
         "field": "unit_1",
         "type": "quantitative"
        },
        "y": {
         "field": "unit_2",
         "type": "quantitative"
        }
       },
       "mark": {
        "opacity": 0.2,
        "type": "circle"
       }
      },
      "image/png": "[encoded data removed]",
      "text/plain": [
       "<VegaLite 3 object>\n",
       "\n",
       "If you see this message, it means the renderer has not been properly enabled\n",
       "for the frontend that you are using. For more information, see\n",
       "https://altair-viz.github.io/user_guide/troubleshooting.html\n"
      ]
     },
     "execution_count": 13,
     "metadata": {},
     "output_type": "execute_result"
    }
   ],
   "source": [
    "df = pd.DataFrame({\n",
    "    'unit_1': h[:,0], \n",
    "    'unit_2': h[:,1],\n",
    "    'cell_id': test[1].cell_id.values\n",
    "})\n",
    "\n",
    "alt.Chart(df).mark_circle(opacity=0.2).encode(\n",
    "    x='unit_1:Q',\n",
    "    y='unit_2:Q',\n",
    "    color='cell_id:N'\n",
    ")"
   ]
  },
  {
   "cell_type": "markdown",
   "metadata": {},
   "source": [
    "### Cell-type meta data"
   ]
  },
  {
   "cell_type": "code",
   "execution_count": 14,
   "metadata": {},
   "outputs": [],
   "source": [
    "cell_info_fname = 'GSE92742_Broad_LINCS_cell_info.txt'\n",
    "cell_meta = pd.read_csv(os.path.join(data_dir, cell_info_fname), sep='\\t', na_values = '-666')"
   ]
  },
  {
   "cell_type": "code",
   "execution_count": 15,
   "metadata": {},
   "outputs": [
    {
     "data": {
      "image/png": "[encoded data removed]",
      "text/plain": [
       "<Figure size 432x288 with 1 Axes>"
      ]
     },
     "metadata": {
      "needs_background": "light"
     },
     "output_type": "display_data"
    }
   ],
   "source": [
    "sample_counts = sample_meta['cell_id'].value_counts()\n",
    "sample_counts[sample_counts > 5000].plot(kind='bar');"
   ]
  },
  {
   "cell_type": "code",
   "execution_count": 16,
   "metadata": {},
   "outputs": [
    {
     "data": {
      "text/html": [
       "<div>\n",
       "<style scoped>\n",
       "    .dataframe tbody tr th:only-of-type {\n",
       "        vertical-align: middle;\n",
       "    }\n",
       "\n",
       "    .dataframe tbody tr th {\n",
       "        vertical-align: top;\n",
       "    }\n",
       "\n",
       "    .dataframe thead th {\n",
       "        text-align: right;\n",
       "    }\n",
       "</style>\n",
       "<table border=\"1\" class=\"dataframe\">\n",
       "  <thead>\n",
       "    <tr style=\"text-align: right;\">\n",
       "      <th></th>\n",
       "      <th>cell_id</th>\n",
       "      <th>cell_type</th>\n",
       "      <th>base_cell_id</th>\n",
       "      <th>precursor_cell_id</th>\n",
       "      <th>modification</th>\n",
       "      <th>sample_type</th>\n",
       "      <th>primary_site</th>\n",
       "      <th>subtype</th>\n",
       "      <th>original_growth_pattern</th>\n",
       "      <th>provider_catalog_id</th>\n",
       "      <th>original_source_vendor</th>\n",
       "      <th>donor_age</th>\n",
       "      <th>donor_sex</th>\n",
       "      <th>donor_ethnicity</th>\n",
       "    </tr>\n",
       "  </thead>\n",
       "  <tbody>\n",
       "    <tr>\n",
       "      <th>54</th>\n",
       "      <td>PC3</td>\n",
       "      <td>cell line</td>\n",
       "      <td>PC3</td>\n",
       "      <td>NaN</td>\n",
       "      <td>NaN</td>\n",
       "      <td>tumor</td>\n",
       "      <td>prostate</td>\n",
       "      <td>adenocarcinoma</td>\n",
       "      <td>mix</td>\n",
       "      <td>CRL-1435</td>\n",
       "      <td>ATCC</td>\n",
       "      <td>62.0</td>\n",
       "      <td>M</td>\n",
       "      <td>Caucasian</td>\n",
       "    </tr>\n",
       "    <tr>\n",
       "      <th>55</th>\n",
       "      <td>PC3.101</td>\n",
       "      <td>cell line</td>\n",
       "      <td>PC3</td>\n",
       "      <td>PC3</td>\n",
       "      <td>genetically modified to stably express Cas9 pr...</td>\n",
       "      <td>tumor</td>\n",
       "      <td>prostate</td>\n",
       "      <td>adenocarcinoma</td>\n",
       "      <td>mix</td>\n",
       "      <td>CRL-1435</td>\n",
       "      <td>ATCC</td>\n",
       "      <td>62.0</td>\n",
       "      <td>M</td>\n",
       "      <td>Caucasian</td>\n",
       "    </tr>\n",
       "    <tr>\n",
       "      <th>56</th>\n",
       "      <td>PC3.311</td>\n",
       "      <td>cell line</td>\n",
       "      <td>PC3</td>\n",
       "      <td>PC3</td>\n",
       "      <td>genetically modified to stably express Cas9 pr...</td>\n",
       "      <td>tumor</td>\n",
       "      <td>prostate</td>\n",
       "      <td>adenocarcinoma</td>\n",
       "      <td>mix</td>\n",
       "      <td>CRL-1435</td>\n",
       "      <td>ATCC</td>\n",
       "      <td>62.0</td>\n",
       "      <td>M</td>\n",
       "      <td>Caucasian</td>\n",
       "    </tr>\n",
       "  </tbody>\n",
       "</table>\n",
       "</div>"
      ],
      "text/plain": [
       "    cell_id  cell_type base_cell_id precursor_cell_id  \\\n",
       "54      PC3  cell line          PC3               NaN   \n",
       "55  PC3.101  cell line          PC3               PC3   \n",
       "56  PC3.311  cell line          PC3               PC3   \n",
       "\n",
       "                                         modification sample_type  \\\n",
       "54                                                NaN       tumor   \n",
       "55  genetically modified to stably express Cas9 pr...       tumor   \n",
       "56  genetically modified to stably express Cas9 pr...       tumor   \n",
       "\n",
       "   primary_site         subtype original_growth_pattern provider_catalog_id  \\\n",
       "54     prostate  adenocarcinoma                     mix            CRL-1435   \n",
       "55     prostate  adenocarcinoma                     mix            CRL-1435   \n",
       "56     prostate  adenocarcinoma                     mix            CRL-1435   \n",
       "\n",
       "   original_source_vendor  donor_age donor_sex donor_ethnicity  \n",
       "54                   ATCC       62.0         M       Caucasian  \n",
       "55                   ATCC       62.0         M       Caucasian  \n",
       "56                   ATCC       62.0         M       Caucasian  "
      ]
     },
     "execution_count": 16,
     "metadata": {},
     "output_type": "execute_result"
    }
   ],
   "source": [
    "cell_meta[cell_meta.base_cell_id == 'PC3']"
   ]
  },
  {
   "cell_type": "code",
   "execution_count": null,
   "metadata": {},
   "outputs": [],
   "source": []
  }
 ],
 "metadata": {
  "kernelspec": {
   "display_name": "Python 3",
   "language": "python",
   "name": "python3"
  },
  "language_info": {
   "codemirror_mode": {
    "name": "ipython",
    "version": 3
   },
   "file_extension": ".py",
   "mimetype": "text/x-python",
   "name": "python",
   "nbconvert_exporter": "python",
   "pygments_lexer": "ipython3",
   "version": "3.6.8"
  }
 },
 "nbformat": 4,
 "nbformat_minor": 4
}
