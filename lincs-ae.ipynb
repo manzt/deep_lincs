{
 "cells": [
  {
   "cell_type": "code",
   "execution_count": 1,
   "metadata": {},
   "outputs": [
    {
     "name": "stdout",
     "output_type": "stream",
     "text": [
      "tensorflow: 2.0.0-beta0\n",
      "keras: 2.2.4-tf\n"
     ]
    }
   ],
   "source": [
    "%load_ext autoreload\n",
    "%autoreload 2\n",
    "\n",
    "import tensorflow as tf\n",
    "import umap\n",
    "import numpy as np\n",
    "import matplotlib.pyplot as plt\n",
    "from utils import load_data, split_data\n",
    "import os\n",
    "\n",
    "print(f\"tensorflow: {tf.__version__}\")\n",
    "print(f\"keras: {tf.keras.__version__}\")"
   ]
  },
  {
   "cell_type": "code",
   "execution_count": 2,
   "metadata": {},
   "outputs": [
    {
     "name": "stdout",
     "output_type": "stream",
     "text": [
      "env: DATA_DIR=../data/GSE92742_Broad_LINCS\n"
     ]
    }
   ],
   "source": [
    "%env DATA_DIR ../data/GSE92742_Broad_LINCS\n",
    "\n",
    "data_dir = os.environ['DATA_DIR']\n",
    "\n",
    "# data_fname = 'GSE92742_Broad_LINCS_Level4_ZSPCINF_mlr12k_n1319138x12328.gctx' # Level 4 data\n",
    "data_fname = 'GSE92742_Broad_LINCS_Level3_INF_mlr12k_n1319138x12328.gctx' # Level 3 data\n",
    "data_path = os.path.join(data_dir, data_fname)\n",
    "\n",
    "sample_meta_fname = 'GSE92742_Broad_LINCS_inst_info.txt'\n",
    "sample_meta_path = os.path.join(data_dir, sample_meta_fname)"
   ]
  },
  {
   "cell_type": "code",
   "execution_count": null,
   "metadata": {},
   "outputs": [],
   "source": [
    "# Read in raw data, selecting for cells by treatment and cell line\n",
    "\n",
    "pert_types = [\n",
    "    'trt_cp',       # treated with compound\n",
    "    'ctl_vehicle',  # control for compound treatment (e.g DMSO) \n",
    "    'ctl_untrt'     # untreated samples\n",
    "]\n",
    "\n",
    "cell_ids = [\n",
    "    'VCAP', # prostate tumor\n",
    "    'MCF7', # breast tumor\n",
    "    'PC3',  # prostate tumor\n",
    "]\n",
    "\n",
    "# Load Data\n",
    "sample_meta, gene_labels, data = load_data(data_path, sample_meta_path, pert_types, cell_ids)\n",
    "\n",
    "# Normalize expression between 0-1 per gene\n",
    "# TODO: implement this normalization per batch during training\n",
    "data_normed = data / data.max(0)\n",
    "\n",
    "print(f\"data size: {data.shape}\")"
   ]
  },
  {
   "cell_type": "code",
   "execution_count": null,
   "metadata": {},
   "outputs": [],
   "source": [
    "# Split data into training, validation, and testing\n",
    "train, val, test = split_data(data_normed, sample_meta, 0.2)\n",
    "\n",
    "print(f\"training size:   {train[0].shape[0]:,}\")\n",
    "print(f\"validation size: {val[0].shape[0]:,}\")\n",
    "print(f\"testing size:    {test[0].shape[0]:,}\")"
   ]
  },
  {
   "cell_type": "code",
   "execution_count": null,
   "metadata": {},
   "outputs": [],
   "source": [
    "from tensorflow.keras import Sequential, layers\n",
    "from metrics import PearsonsR\n",
    "\n",
    "def create_AE(hidden_layers, activation='relu', optimizer='adam', out_size=978):\n",
    "    model = Sequential()\n",
    "    model.add(layers.Dense(hidden_layers[0], activation=activation, input_shape=(out_size,)))\n",
    "\n",
    "    for nunits in hidden_layers[1:]:\n",
    "        model.add(layers.Dense(nunits, activation=activation))\n",
    "        \n",
    "    model.add(layers.Dense(out_size, activation='relu'))\n",
    "    \n",
    "    model.compile(\n",
    "        optimizer = optimizer, \n",
    "        loss = 'mean_squared_error',\n",
    "        metrics = [\n",
    "            tf.keras.metrics.CosineSimilarity(),\n",
    "            PearsonsR() # custom correlation metric\n",
    "        ] \n",
    "    )\n",
    "    \n",
    "    return model\n",
    "\n",
    "def create_tf_dataset(X, y, shuffle=True, repeated=True, batch_size=32):\n",
    "    dataset = tf.data.Dataset.from_tensor_slices((X,y))\n",
    "    if repeated:\n",
    "        dataset = dataset.repeat()\n",
    "    if shuffle:\n",
    "        dataset = dataset.shuffle(buffer_size = X.shape[0])\n",
    "    dataset = dataset.batch(batch_size)\n",
    "    # `prefetch` lets the dataset fetch batches, in the background while the model is training.\n",
    "    dataset = dataset.prefetch(buffer_size = tf.data.experimental.AUTOTUNE)\n",
    "    return dataset"
   ]
  },
  {
   "cell_type": "code",
   "execution_count": null,
   "metadata": {},
   "outputs": [],
   "source": [
    "batch_size = 64\n",
    "train_dataset = create_tf_dataset(train[0], train[0], batch_size=batch_size)\n",
    "train_dataset"
   ]
  },
  {
   "cell_type": "code",
   "execution_count": null,
   "metadata": {},
   "outputs": [],
   "source": [
    "# Tensorboard stuff\n",
    "# import datetime, os\n",
    "# logdir = os.path.join(\"logs\", datetime.datetime.now().strftime(\"%Y%m%d-%H%M%S\"))\n",
    "# tensorboard_callback = tf.keras.callbacks.TensorBoard(logdir, histogram_freq=1)\n",
    "tf.random.set_seed(42)\n",
    "model = create_AE([128, 2, 128])\n",
    "model.summary()"
   ]
  },
  {
   "cell_type": "code",
   "execution_count": null,
   "metadata": {},
   "outputs": [],
   "source": [
    "model.fit(\n",
    "    train_dataset,\n",
    "    epochs = 5,\n",
    "    shuffle = True,\n",
    "    steps_per_epoch = train[0].shape[0] // batch_size,\n",
    "    validation_data = (val[0], val[0]),\n",
    "#     callbacks = [tensorboard_callback]\n",
    ")"
   ]
  },
  {
   "cell_type": "code",
   "execution_count": null,
   "metadata": {},
   "outputs": [],
   "source": [
    "test_loss = model.evaluate(test[0], test[0])\n",
    "print(f\"loss: {test_loss}\")"
   ]
  },
  {
   "cell_type": "markdown",
   "metadata": {},
   "source": [
    "### Plotting"
   ]
  },
  {
   "cell_type": "code",
   "execution_count": null,
   "metadata": {},
   "outputs": [],
   "source": [
    "from utils import plot_embedding2D, plot_embedding3D\n",
    "encoder = tf.keras.Model(inputs=model.layers[0].input, outputs=model.layers[1].output)\n",
    "h = encoder.predict(test[0])"
   ]
  },
  {
   "cell_type": "code",
   "execution_count": null,
   "metadata": {},
   "outputs": [],
   "source": [
    "plot_embedding2D(h, test[1].cell_id.values, alpha=0.2)"
   ]
  },
  {
   "cell_type": "code",
   "execution_count": null,
   "metadata": {},
   "outputs": [],
   "source": [
    "import pandas as pd\n",
    "cell_info_fname = 'GSE92742_Broad_LINCS_cell_info.txt'\n",
    "cell_meta = pd.read_csv(os.path.join(data_dir, cell_info_fname), sep='\\t', na_values = '-666')"
   ]
  },
  {
   "cell_type": "code",
   "execution_count": null,
   "metadata": {},
   "outputs": [],
   "source": [
    "sample_counts = sample_meta['cell_id'].value_counts()\n",
    "sample_counts[sample_counts > 5000].plot(kind='bar');"
   ]
  },
  {
   "cell_type": "code",
   "execution_count": null,
   "metadata": {},
   "outputs": [],
   "source": [
    "cell_meta[cell_meta.base_cell_id == 'PC3']"
   ]
  }
 ],
 "metadata": {
  "kernelspec": {
   "display_name": "Python 3",
   "language": "python",
   "name": "python3"
  },
  "language_info": {
   "codemirror_mode": {
    "name": "ipython",
    "version": 3
   },
   "file_extension": ".py",
   "mimetype": "text/x-python",
   "name": "python",
   "nbconvert_exporter": "python",
   "pygments_lexer": "ipython3",
   "version": "3.6.8"
  }
 },
 "nbformat": 4,
 "nbformat_minor": 4
}
