{
 "cells": [
  {
   "cell_type": "markdown",
   "metadata": {},
   "source": [
    "# Custom normalizer"
   ]
  },
  {
   "cell_type": "markdown",
   "metadata": {},
   "source": [
    "The `Dataset.normalize_by_gene()` method can take either one of two string options (`\"z_score\"` or `\"standard_scale\"`) or function as an argument. Therefore a user can define a custom normaliser, which takes the `sample` x `gene` array as an argument and returns an array of the same dimension. Let's see this in action. \n",
    "\n",
    "Here we will apply a robust z-score per gene as described by [Lipinski et al](https://www.pnas.org/content/pnas/suppl/2012/11/30/1209673109.DCSupplemental/pnas.201209673SI.pdf)."
   ]
  },
  {
   "cell_type": "code",
   "execution_count": 1,
   "metadata": {},
   "outputs": [],
   "source": [
    "def robust_z_score(X, min_mad=0.1):\n",
    "    median_subtracted = X - np.median(X, axis=0) # median expression for each gene\n",
    "    median_deviations = np.abs(median_subtracted)\n",
    "    \n",
    "    mads = np.median(median_deviations, axis=0)\n",
    "    mads = np.clip(mads, a_min=min_mad, a_max=None)\n",
    "    \n",
    "    # Multiply values by 1.4826 to make MAD comparable to SD\n",
    "    # (https://en.wikipedia.org/wiki/Median_absolute_deviation)\n",
    "    zscore = median_subtracted / (mads * 1.4826)\n",
    "    return zscore"
   ]
  },
  {
   "cell_type": "markdown",
   "metadata": {},
   "source": [
    "Next we can create a `Dataset` with some fake expression profiles:"
   ]
  },
  {
   "cell_type": "code",
   "execution_count": 2,
   "metadata": {},
   "outputs": [
    {
     "data": {
      "text/plain": [
       "<L1000 Dataset: (samples: 4, genes: 3)>"
      ]
     },
     "execution_count": 2,
     "metadata": {},
     "output_type": "execute_result"
    }
   ],
   "source": [
    "from deep_lincs import Dataset\n",
    "import pandas as pd\n",
    "import numpy as np\n",
    "np.random.seed(42)\n",
    "\n",
    "gene_meta_df = pd.DataFrame(\n",
    "    {\"name\": [\"Gene A\", \"Gene B\", \"Gene C\"]}, \n",
    "    index=pd.Index(list('ABC'), name=\"gene_id\")\n",
    ")\n",
    "sample_meta_df = pd.DataFrame(\n",
    "    {\"cell_id\": [\"cell_A\", \"cell_A\", \"cell_B\", \"cell_C\"]}, \n",
    "    index=pd.Index(list('wxyz'), name=\"inst_id\")\n",
    ")\n",
    "data_df = pd.DataFrame(\n",
    "    np.random.rand(12).reshape(-1,3), \n",
    "    columns=gene_meta_df.index.values, \n",
    "    index=sample_meta_df.index\n",
    ")\n",
    "\n",
    "dataset = Dataset.from_dataframes(data_df, sample_meta_df, gene_meta_df)\n",
    "dataset"
   ]
  },
  {
   "cell_type": "markdown",
   "metadata": {},
   "source": [
    "Now we can pass our custom normalizer as as argument, and voilà, the data are robust z-score normalized!"
   ]
  },
  {
   "cell_type": "code",
   "execution_count": 3,
   "metadata": {},
   "outputs": [
    {
     "data": {
      "text/html": [
       "<div>\n",
       "<style scoped>\n",
       "    .dataframe tbody tr th:only-of-type {\n",
       "        vertical-align: middle;\n",
       "    }\n",
       "\n",
       "    .dataframe tbody tr th {\n",
       "        vertical-align: top;\n",
       "    }\n",
       "\n",
       "    .dataframe thead th {\n",
       "        text-align: right;\n",
       "    }\n",
       "</style>\n",
       "<table border=\"1\" class=\"dataframe\">\n",
       "  <thead>\n",
       "    <tr style=\"text-align: right;\">\n",
       "      <th></th>\n",
       "      <th>A</th>\n",
       "      <th>B</th>\n",
       "      <th>C</th>\n",
       "    </tr>\n",
       "    <tr>\n",
       "      <th>inst_id</th>\n",
       "      <th></th>\n",
       "      <th></th>\n",
       "      <th></th>\n",
       "    </tr>\n",
       "  </thead>\n",
       "  <tbody>\n",
       "    <tr>\n",
       "      <th>w</th>\n",
       "      <td>-0.453227</td>\n",
       "      <td>0.746242</td>\n",
       "      <td>0.239365</td>\n",
       "    </tr>\n",
       "    <tr>\n",
       "      <th>x</th>\n",
       "      <td>0.453227</td>\n",
       "      <td>-0.602740</td>\n",
       "      <td>-1.867531</td>\n",
       "    </tr>\n",
       "    <tr>\n",
       "      <th>y</th>\n",
       "      <td>-1.733144</td>\n",
       "      <td>0.602740</td>\n",
       "      <td>-0.239365</td>\n",
       "    </tr>\n",
       "    <tr>\n",
       "      <th>z</th>\n",
       "      <td>0.895755</td>\n",
       "      <td>-0.832637</td>\n",
       "      <td>1.109616</td>\n",
       "    </tr>\n",
       "  </tbody>\n",
       "</table>\n",
       "</div>"
      ],
      "text/plain": [
       "                A         B         C\n",
       "inst_id                              \n",
       "w       -0.453227  0.746242  0.239365\n",
       "x        0.453227 -0.602740 -1.867531\n",
       "y       -1.733144  0.602740 -0.239365\n",
       "z        0.895755 -0.832637  1.109616"
      ]
     },
     "execution_count": 3,
     "metadata": {},
     "output_type": "execute_result"
    }
   ],
   "source": [
    "dataset.normalize_by_gene(robust_z_score)\n",
    "dataset.data"
   ]
  },
  {
   "cell_type": "code",
   "execution_count": 4,
   "metadata": {},
   "outputs": [
    {
     "ename": "TypeError",
     "evalue": "barplot() got an unexpected keyword argument 'x'",
     "output_type": "error",
     "traceback": [
      "\u001b[0;31m---------------------------------------------------------------------------\u001b[0m",
      "\u001b[0;31mTypeError\u001b[0m                                 Traceback (most recent call last)",
      "\u001b[0;32m<ipython-input-4-c15deb169b63>\u001b[0m in \u001b[0;36m<module>\u001b[0;34m\u001b[0m\n\u001b[0;32m----> 1\u001b[0;31m \u001b[0mdataset\u001b[0m\u001b[0;34m.\u001b[0m\u001b[0mplot_meta_counts\u001b[0m\u001b[0;34m(\u001b[0m\u001b[0;34m\"cell_id\"\u001b[0m\u001b[0;34m)\u001b[0m\u001b[0;34m\u001b[0m\u001b[0;34m\u001b[0m\u001b[0m\n\u001b[0m",
      "\u001b[0;32m~/miniconda3/envs/py3.7/lib/python3.7/site-packages/deep_lincs/dataset/dataset.py\u001b[0m in \u001b[0;36mplot_meta_counts\u001b[0;34m(self, meta_field, normalize, sort_values)\u001b[0m\n\u001b[1;32m    359\u001b[0m         \u001b[0mcolname\u001b[0m \u001b[0;34m=\u001b[0m \u001b[0;34m\"counts\"\u001b[0m \u001b[0;32mif\u001b[0m \u001b[0mnormalize\u001b[0m \u001b[0;32mis\u001b[0m \u001b[0;32mFalse\u001b[0m \u001b[0;32melse\u001b[0m \u001b[0;34m\"frequency\"\u001b[0m\u001b[0;34m\u001b[0m\u001b[0;34m\u001b[0m\u001b[0m\n\u001b[1;32m    360\u001b[0m         \u001b[0mdf\u001b[0m \u001b[0;34m=\u001b[0m \u001b[0mpd\u001b[0m\u001b[0;34m.\u001b[0m\u001b[0mDataFrame\u001b[0m\u001b[0;34m(\u001b[0m\u001b[0;34m{\u001b[0m\u001b[0mmeta_field\u001b[0m\u001b[0;34m:\u001b[0m \u001b[0mcounts\u001b[0m\u001b[0;34m.\u001b[0m\u001b[0mindex\u001b[0m\u001b[0;34m.\u001b[0m\u001b[0mvalues\u001b[0m\u001b[0;34m,\u001b[0m \u001b[0mcolname\u001b[0m\u001b[0;34m:\u001b[0m \u001b[0mcounts\u001b[0m\u001b[0;34m.\u001b[0m\u001b[0mvalues\u001b[0m\u001b[0;34m}\u001b[0m\u001b[0;34m)\u001b[0m\u001b[0;34m\u001b[0m\u001b[0;34m\u001b[0m\u001b[0m\n\u001b[0;32m--> 361\u001b[0;31m         \u001b[0;32mreturn\u001b[0m \u001b[0mbarplot\u001b[0m\u001b[0;34m(\u001b[0m\u001b[0mdf\u001b[0m\u001b[0;34m=\u001b[0m\u001b[0mdf\u001b[0m\u001b[0;34m,\u001b[0m \u001b[0mx\u001b[0m\u001b[0;34m=\u001b[0m\u001b[0mmeta_field\u001b[0m\u001b[0;34m,\u001b[0m \u001b[0my\u001b[0m\u001b[0;34m=\u001b[0m\u001b[0mcolname\u001b[0m\u001b[0;34m)\u001b[0m\u001b[0;34m\u001b[0m\u001b[0;34m\u001b[0m\u001b[0m\n\u001b[0m\u001b[1;32m    362\u001b[0m \u001b[0;34m\u001b[0m\u001b[0m\n\u001b[1;32m    363\u001b[0m     \u001b[0;32mdef\u001b[0m \u001b[0mcopy\u001b[0m\u001b[0;34m(\u001b[0m\u001b[0mself\u001b[0m\u001b[0;34m)\u001b[0m\u001b[0;34m:\u001b[0m\u001b[0;34m\u001b[0m\u001b[0;34m\u001b[0m\u001b[0m\n",
      "\u001b[0;31mTypeError\u001b[0m: barplot() got an unexpected keyword argument 'x'"
     ]
    }
   ],
   "source": [
    "dataset.plot_meta_counts()"
   ]
  },
  {
   "cell_type": "code",
   "execution_count": null,
   "metadata": {},
   "outputs": [],
   "source": []
  }
 ],
 "metadata": {
  "kernelspec": {
   "display_name": "Python 3",
   "language": "python",
   "name": "python3"
  },
  "language_info": {
   "codemirror_mode": {
    "name": "ipython",
    "version": 3
   },
   "file_extension": ".py",
   "mimetype": "text/x-python",
   "name": "python",
   "nbconvert_exporter": "python",
   "pygments_lexer": "ipython3",
   "version": "3.7.3"
  }
 },
 "nbformat": 4,
 "nbformat_minor": 4
}
