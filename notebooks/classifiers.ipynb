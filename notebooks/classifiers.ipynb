{
 "cells": [
  {
   "cell_type": "code",
   "execution_count": 1,
   "metadata": {},
   "outputs": [
    {
     "name": "stdout",
     "output_type": "stream",
     "text": [
      "tensorflow: 2.0.0-beta1\n",
      "keras: 2.2.4-tf\n"
     ]
    }
   ],
   "source": [
    "import tensorflow as tf\n",
    "import numpy as np\n",
    "import pandas as pd\n",
    "import altair as alt\n",
    "\n",
    "print(f\"tensorflow: {tf.__version__}\")\n",
    "print(f\"keras: {tf.keras.__version__}\")"
   ]
  },
  {
   "cell_type": "markdown",
   "metadata": {},
   "source": [
    "## Building a classifier\n",
    "First we will load the data for samples for which we have the most data and only the controls and chemically perturbed."
   ]
  },
  {
   "cell_type": "code",
   "execution_count": 2,
   "metadata": {},
   "outputs": [
    {
     "data": {
      "text/plain": [
       "<L1000 Dataset: (samples: 627,403, genes: 978)>"
      ]
     },
     "execution_count": 2,
     "metadata": {},
     "output_type": "execute_result"
    }
   ],
   "source": [
    "from deep_lincs import Dataset\n",
    "\n",
    "pert_types = [\n",
    "    \"trt_cp\",       # treated with compound\n",
    "    \"ctl_vehicle\",  # control for compound treatment (e.g DMSO)\n",
    "    \"ctl_untrt\",    # untreated samples\n",
    "]\n",
    "\n",
    "cell_ids = [\n",
    "    \"VCAP\",\n",
    "    \"MCF7\",\n",
    "    \"PC3\",\n",
    "    \"A549\",\n",
    "    \"A375\",\n",
    "    \"HT29\",\n",
    "    \"HA1E\",\n",
    "    \"HCC515\",\n",
    "    \"HEPG2\",\n",
    "    \"NPC\",\n",
    "    \"ASC\",\n",
    "    \"NEU\",\n",
    "]\n",
    "\n",
    "dataset = Dataset.from_yaml(\"settings.yaml\", pert_type=pert_types, cell_id=cell_ids)\n",
    "dataset.normalize_by_gene(normalizer=\"standard_scale\")\n",
    "dataset"
   ]
  },
  {
   "cell_type": "markdown",
   "metadata": {},
   "source": [
    "Next we can examine the frequency of each metadata field in our dataset."
   ]
  },
  {
   "cell_type": "code",
   "execution_count": 3,
   "metadata": {},
   "outputs": [
    {
     "data": {
      "application/vnd.vegalite.v3+json": {
       "$schema": "https://vega.github.io/schema/vega-lite/v3.3.0.json",
       "config": {
        "mark": {
         "tooltip": null
        },
        "view": {
         "height": 300,
         "width": 400
        }
       },
       "datasets": {
        "data-1839b53fefb994384ce65ab761bbb26b": [
         {
          "frequency": 0.8422831895926541,
          "original_growth_pattern": "adherent"
         },
         {
          "frequency": 0.15771681040734584,
          "original_growth_pattern": "mix"
         }
        ],
        "data-482d76b7ea06c905145fcdeef9f92a31": [
         {
          "frequency": 0.8424712664746582,
          "sample_type": "tumor"
         },
         {
          "frequency": 0.1169854144784134,
          "sample_type": "normal"
         },
         {
          "frequency": 0.04054331904692837,
          "sample_type": "primary"
         }
        ],
        "data-8ab61c9d63771bb66da40cfa06fbea1d": [
         {
          "frequency": 0.9279569909611526,
          "pert_type": "trt_cp"
         },
         {
          "frequency": 0.03911999145684671,
          "pert_type": "ctl_vehicle"
         },
         {
          "frequency": 0.032923017582000724,
          "pert_type": "ctl_untrt"
         }
        ],
        "data-c115a18ba832446076d4918ecd0d3e21": [
         {
          "cell_type": "cell line",
          "frequency": 0.9442399861014372
         },
         {
          "cell_type": "differentiated",
          "frequency": 0.04032017698353371
         },
         {
          "cell_type": "primary",
          "frequency": 0.015439836915029096
         }
        ],
        "data-ca696c7f43cf8b647e65c46e85768471": [
         {
          "donor_sex": "M",
          "frequency": 0.5861694499677431
         },
         {
          "donor_sex": "F",
          "frequency": 0.4138305500322569
         }
        ],
        "data-d9ac7186b30b2984b872ac4c8e295637": [
         {
          "frequency": 0.36764715402941783,
          "primary_site": "prostate"
         },
         {
          "frequency": 0.17215985601823078,
          "primary_site": "breast"
         },
         {
          "frequency": 0.14730940542780194,
          "primary_site": "lung"
         },
         {
          "frequency": 0.09227878340584214,
          "primary_site": "skin"
         },
         {
          "frequency": 0.08958883623368552,
          "primary_site": "large intestine"
         },
         {
          "frequency": 0.05666368862647607,
          "primary_site": "kidney"
         },
         {
          "frequency": 0.033182489123679305,
          "primary_site": "liver"
         },
         {
          "frequency": 0.025491376631448105,
          "primary_site": "central nervous system"
         },
         {
          "frequency": 0.015678410503418273,
          "primary_site": "adipose"
         }
        ],
        "data-e29a96d30b94cd99a52d038d55815334": [
         {
          "cell_id": "VCAP",
          "frequency": 0.20433596906613452
         },
         {
          "cell_id": "MCF7",
          "frequency": 0.16954015202350003
         },
         {
          "cell_id": "PC3",
          "frequency": 0.15771681040734584
         },
         {
          "cell_id": "A549",
          "frequency": 0.09910057809733137
         },
         {
          "cell_id": "A375",
          "frequency": 0.09087460531747538
         },
         {
          "cell_id": "HT29",
          "frequency": 0.08822559025060447
         },
         {
          "cell_id": "HA1E",
          "frequency": 0.05580145456747896
         },
         {
          "cell_id": "HCC515",
          "frequency": 0.0459672650593
         },
         {
          "cell_id": "HEPG2",
          "frequency": 0.032677561312266595
         },
         {
          "cell_id": "NPC",
          "frequency": 0.025103482131899273
         },
         {
          "cell_id": "ASC",
          "frequency": 0.015439836915029096
         },
         {
          "cell_id": "NEU",
          "frequency": 0.015216694851634436
         }
        ]
       },
       "hconcat": [
        {
         "data": {
          "name": "data-d9ac7186b30b2984b872ac4c8e295637"
         },
         "encoding": {
          "x": {
           "field": "primary_site",
           "sort": null,
           "type": "nominal"
          },
          "y": {
           "field": "frequency",
           "type": "quantitative"
          }
         },
         "mark": "bar"
        },
        {
         "data": {
          "name": "data-482d76b7ea06c905145fcdeef9f92a31"
         },
         "encoding": {
          "x": {
           "field": "sample_type",
           "sort": null,
           "type": "nominal"
          },
          "y": {
           "field": "frequency",
           "type": "quantitative"
          }
         },
         "mark": "bar"
        },
        {
         "data": {
          "name": "data-ca696c7f43cf8b647e65c46e85768471"
         },
         "encoding": {
          "x": {
           "field": "donor_sex",
           "sort": null,
           "type": "nominal"
          },
          "y": {
           "field": "frequency",
           "type": "quantitative"
          }
         },
         "mark": "bar"
        },
        {
         "data": {
          "name": "data-e29a96d30b94cd99a52d038d55815334"
         },
         "encoding": {
          "x": {
           "field": "cell_id",
           "sort": null,
           "type": "nominal"
          },
          "y": {
           "field": "frequency",
           "type": "quantitative"
          }
         },
         "mark": "bar"
        },
        {
         "data": {
          "name": "data-1839b53fefb994384ce65ab761bbb26b"
         },
         "encoding": {
          "x": {
           "field": "original_growth_pattern",
           "sort": null,
           "type": "nominal"
          },
          "y": {
           "field": "frequency",
           "type": "quantitative"
          }
         },
         "mark": "bar"
        },
        {
         "data": {
          "name": "data-c115a18ba832446076d4918ecd0d3e21"
         },
         "encoding": {
          "x": {
           "field": "cell_type",
           "sort": null,
           "type": "nominal"
          },
          "y": {
           "field": "frequency",
           "type": "quantitative"
          }
         },
         "mark": "bar"
        },
        {
         "data": {
          "name": "data-8ab61c9d63771bb66da40cfa06fbea1d"
         },
         "encoding": {
          "x": {
           "field": "pert_type",
           "sort": null,
           "type": "nominal"
          },
          "y": {
           "field": "frequency",
           "type": "quantitative"
          }
         },
         "mark": "bar"
        }
       ]
      },
      "image/png": "[encoded data removed]",
      "text/plain": [
       "<VegaLite 3 object>\n",
       "\n",
       "If you see this message, it means the renderer has not been properly enabled\n",
       "for the frontend that you are using. For more information, see\n",
       "https://altair-viz.github.io/user_guide/troubleshooting.html\n"
      ]
     },
     "execution_count": 3,
     "metadata": {},
     "output_type": "execute_result"
    }
   ],
   "source": [
    "fields = [\n",
    "    \"primary_site\",\n",
    "    \"sample_type\",\n",
    "    \"donor_sex\",\n",
    "    \"cell_id\",\n",
    "    \"original_growth_pattern\",\n",
    "    \"cell_type\",\n",
    "    \"pert_type\",\n",
    "]\n",
    "alt.hconcat(*[dataset.plot_meta_counts(field) for field in fields])"
   ]
  },
  {
   "cell_type": "markdown",
   "metadata": {},
   "source": [
    "## Cell classifier\n",
    "To build a classifier, we will load the `SingleClassifier` class and define a target."
   ]
  },
  {
   "cell_type": "code",
   "execution_count": 4,
   "metadata": {},
   "outputs": [],
   "source": [
    "from deep_lincs.models import SingleClassifier\n",
    "target = \"pert_type\"\n",
    "sc = SingleClassifier(dataset, target=target)"
   ]
  },
  {
   "cell_type": "markdown",
   "metadata": {},
   "source": [
    "Now that we have loaded our data into the classifier and defined a target, we will need to prepare the dataset for training and compile our model. The `SingleClassifier.compile_model()` method takes a list of integers as an argument to define the number of hidden layers and sizes of each layer."
   ]
  },
  {
   "cell_type": "code",
   "execution_count": 5,
   "metadata": {},
   "outputs": [
    {
     "name": "stdout",
     "output_type": "stream",
     "text": [
      "Model: \"sequential\"\n",
      "_________________________________________________________________\n",
      "Layer (type)                 Output Shape              Param #   \n",
      "=================================================================\n",
      "dropout (Dropout)            (None, 978)               0         \n",
      "_________________________________________________________________\n",
      "dense (Dense)                (None, 256)               250624    \n",
      "_________________________________________________________________\n",
      "dropout_1 (Dropout)          (None, 256)               0         \n",
      "_________________________________________________________________\n",
      "dense_1 (Dense)              (None, 128)               32896     \n",
      "_________________________________________________________________\n",
      "dropout_2 (Dropout)          (None, 128)               0         \n",
      "_________________________________________________________________\n",
      "dense_2 (Dense)              (None, 64)                8256      \n",
      "_________________________________________________________________\n",
      "dropout_3 (Dropout)          (None, 64)                0         \n",
      "_________________________________________________________________\n",
      "dense_3 (Dense)              (None, 3)                 195       \n",
      "=================================================================\n",
      "Total params: 291,971\n",
      "Trainable params: 291,971\n",
      "Non-trainable params: 0\n",
      "_________________________________________________________________\n"
     ]
    }
   ],
   "source": [
    "sc.prepare_tf_datasets(batch_size=64)\n",
    "sc.compile_model([256, 128, 64])\n",
    "sc.summary()"
   ]
  },
  {
   "cell_type": "code",
   "execution_count": 6,
   "metadata": {},
   "outputs": [
    {
     "name": "stdout",
     "output_type": "stream",
     "text": [
      "Epoch 1/5\n"
     ]
    },
    {
     "name": "stderr",
     "output_type": "stream",
     "text": [
      "WARNING: Logging before flag parsing goes to stderr.\n",
      "W0729 10:41:28.755558 139854333654848 deprecation.py:323] From /Users/manz01/miniconda3/envs/lincs-gpu/lib/python3.6/site-packages/tensorflow/python/ops/math_grad.py:1250: add_dispatch_support.<locals>.wrapper (from tensorflow.python.ops.array_ops) is deprecated and will be removed in a future version.\n",
      "Instructions for updating:\n",
      "Use tf.where in 2.0, which has the same broadcast rule as np.where\n"
     ]
    },
    {
     "name": "stdout",
     "output_type": "stream",
     "text": [
      "6274/6274 [==============================] - 24s 4ms/step - loss: 0.2526 - accuracy: 0.9376 - val_loss: 0.2166 - val_accuracy: 0.9442\n",
      "Epoch 2/5\n",
      "6274/6274 [==============================] - 21s 3ms/step - loss: 0.2179 - accuracy: 0.9456 - val_loss: 0.2538 - val_accuracy: 0.9337\n",
      "Epoch 3/5\n",
      "6274/6274 [==============================] - 22s 4ms/step - loss: 0.2066 - accuracy: 0.9481 - val_loss: 0.1978 - val_accuracy: 0.9500\n",
      "Epoch 4/5\n",
      "6274/6274 [==============================] - 22s 4ms/step - loss: 0.2036 - accuracy: 0.9491 - val_loss: 0.1919 - val_accuracy: 0.9519\n",
      "Epoch 5/5\n",
      "6274/6274 [==============================] - 23s 4ms/step - loss: 0.1993 - accuracy: 0.9498 - val_loss: 0.2031 - val_accuracy: 0.9523\n"
     ]
    }
   ],
   "source": [
    "sc.fit(epochs=5)"
   ]
  },
  {
   "cell_type": "code",
   "execution_count": 7,
   "metadata": {},
   "outputs": [
    {
     "name": "stdout",
     "output_type": "stream",
     "text": [
      "1961/1961 [==============================] - 3s 2ms/step - loss: 0.2040 - accuracy: 0.9519\n"
     ]
    },
    {
     "data": {
      "text/plain": [
       "[0.20400989416194534, 0.95185727]"
      ]
     },
     "execution_count": 7,
     "metadata": {},
     "output_type": "execute_result"
    }
   ],
   "source": [
    "sc.evaluate()"
   ]
  },
  {
   "cell_type": "code",
   "execution_count": 8,
   "metadata": {},
   "outputs": [
    {
     "data": {
      "application/vnd.vegalite.v3+json": {
       "$schema": "https://vega.github.io/schema/vega-lite/v3.3.0.json",
       "config": {
        "mark": {
         "tooltip": null
        },
        "view": {
         "height": 300,
         "width": 400
        }
       },
       "data": {
        "name": "data-74ce5f41f6d4e5e3a5d85e1c277bf67a"
       },
       "datasets": {
        "data-74ce5f41f6d4e5e3a5d85e1c277bf67a": [
         {
          "index": "ctl_untrt",
          "value": 0.7903614457831325,
          "variable": "ctl_untrt"
         },
         {
          "index": "ctl_vehicle",
          "value": 0.0014221861032100772,
          "variable": "ctl_untrt"
         },
         {
          "index": "trt_cp",
          "value": 0.0021390098703708478,
          "variable": "ctl_untrt"
         },
         {
          "index": "ctl_untrt",
          "value": 0,
          "variable": "ctl_vehicle"
         },
         {
          "index": "ctl_vehicle",
          "value": 0,
          "variable": "ctl_vehicle"
         },
         {
          "index": "trt_cp",
          "value": 0,
          "variable": "ctl_vehicle"
         },
         {
          "index": "ctl_untrt",
          "value": 0.20963855421686747,
          "variable": "trt_cp"
         },
         {
          "index": "ctl_vehicle",
          "value": 0.9985778138967899,
          "variable": "trt_cp"
         },
         {
          "index": "trt_cp",
          "value": 0.9978609901296291,
          "variable": "trt_cp"
         }
        ]
       },
       "height": 300,
       "layer": [
        {
         "encoding": {
          "color": {
           "field": "value",
           "scale": {
            "scheme": "viridis"
           },
           "type": "quantitative"
          },
          "x": {
           "field": "index",
           "title": null,
           "type": "nominal"
          },
          "y": {
           "field": "variable",
           "title": null,
           "type": "nominal"
          }
         },
         "mark": "rect"
        },
        {
         "encoding": {
          "text": {
           "field": "value",
           "format": ".2",
           "type": "quantitative"
          },
          "x": {
           "field": "index",
           "title": null,
           "type": "nominal"
          },
          "y": {
           "field": "variable",
           "title": null,
           "type": "nominal"
          }
         },
         "mark": {
          "size": 15,
          "type": "text"
         }
        }
       ],
       "width": 300
      },
      "image/png": "[encoded data removed]",
      "text/plain": [
       "<VegaLite 3 object>\n",
       "\n",
       "If you see this message, it means the renderer has not been properly enabled\n",
       "for the frontend that you are using. For more information, see\n",
       "https://altair-viz.github.io/user_guide/troubleshooting.html\n"
      ]
     },
     "execution_count": 8,
     "metadata": {},
     "output_type": "execute_result"
    }
   ],
   "source": [
    "sc.plot_confusion_matrix()"
   ]
  },
  {
   "cell_type": "markdown",
   "metadata": {},
   "source": [
    "## Multi-Classifier"
   ]
  },
  {
   "cell_type": "markdown",
   "metadata": {},
   "source": [
    "For a multiple classifier, we will need to pick multiple targets and pass these to the constructor of the `MultiClassifier` class."
   ]
  },
  {
   "cell_type": "code",
   "execution_count": 9,
   "metadata": {},
   "outputs": [],
   "source": [
    "from deep_lincs.models import MultiClassifier\n",
    "targets = [\"cell_id\", \"primary_site\", \"sample_type\", \"original_growth_pattern\", \"pert_type\"]\n",
    "dataset.dropna(\"primary_site\", inplace=True)\n",
    "mc = MultiClassifier(dataset, targets=targets)"
   ]
  },
  {
   "cell_type": "code",
   "execution_count": 10,
   "metadata": {},
   "outputs": [
    {
     "name": "stdout",
     "output_type": "stream",
     "text": [
      "Model: \"model\"\n",
      "__________________________________________________________________________________________________\n",
      "Layer (type)                    Output Shape         Param #     Connected to                     \n",
      "==================================================================================================\n",
      "input_1 (InputLayer)            [(None, 978)]        0                                            \n",
      "__________________________________________________________________________________________________\n",
      "dropout_4 (Dropout)             (None, 978)          0           input_1[0][0]                    \n",
      "__________________________________________________________________________________________________\n",
      "dense_4 (Dense)                 (None, 256)          250624      dropout_4[0][0]                  \n",
      "__________________________________________________________________________________________________\n",
      "dropout_5 (Dropout)             (None, 256)          0           dense_4[0][0]                    \n",
      "__________________________________________________________________________________________________\n",
      "dense_5 (Dense)                 (None, 128)          32896       dropout_5[0][0]                  \n",
      "__________________________________________________________________________________________________\n",
      "dropout_6 (Dropout)             (None, 128)          0           dense_5[0][0]                    \n",
      "__________________________________________________________________________________________________\n",
      "dense_6 (Dense)                 (None, 64)           8256        dropout_6[0][0]                  \n",
      "__________________________________________________________________________________________________\n",
      "dropout_7 (Dropout)             (None, 64)           0           dense_6[0][0]                    \n",
      "__________________________________________________________________________________________________\n",
      "cell_id (Dense)                 (None, 11)           715         dropout_7[0][0]                  \n",
      "__________________________________________________________________________________________________\n",
      "primary_site (Dense)            (None, 9)            585         dropout_7[0][0]                  \n",
      "__________________________________________________________________________________________________\n",
      "sample_type (Dense)             (None, 3)            195         dropout_7[0][0]                  \n",
      "__________________________________________________________________________________________________\n",
      "original_growth_pattern (Dense) (None, 2)            130         dropout_7[0][0]                  \n",
      "__________________________________________________________________________________________________\n",
      "pert_type (Dense)               (None, 3)            195         dropout_7[0][0]                  \n",
      "==================================================================================================\n",
      "Total params: 293,596\n",
      "Trainable params: 293,596\n",
      "Non-trainable params: 0\n",
      "__________________________________________________________________________________________________\n"
     ]
    }
   ],
   "source": [
    "mc.prepare_tf_datasets(batch_size=64)\n",
    "mc.compile_model([256, 128, 64])\n",
    "mc.summary()"
   ]
  },
  {
   "cell_type": "code",
   "execution_count": 11,
   "metadata": {},
   "outputs": [
    {
     "name": "stdout",
     "output_type": "stream",
     "text": [
      "Epoch 1/10\n",
      "6178/6178 [==============================] - 37s 6ms/step - loss: 0.4172 - cell_id_loss: 0.0632 - primary_site_loss: 0.0600 - sample_type_loss: 0.0158 - original_growth_pattern_loss: 0.0110 - pert_type_loss: 0.2673 - cell_id_accuracy: 0.9859 - primary_site_accuracy: 0.9857 - sample_type_accuracy: 0.9955 - original_growth_pattern_accuracy: 0.9969 - pert_type_accuracy: 0.9337 - val_loss: 0.3150 - val_cell_id_loss: 0.0269 - val_primary_site_loss: 0.0236 - val_sample_type_loss: 0.0022 - val_original_growth_pattern_loss: 0.0037 - val_pert_type_loss: 0.2586 - val_cell_id_accuracy: 0.9952 - val_primary_site_accuracy: 0.9955 - val_sample_type_accuracy: 0.9995 - val_original_growth_pattern_accuracy: 0.9987 - val_pert_type_accuracy: 0.9352\n",
      "Epoch 2/10\n",
      "6178/6178 [==============================] - 33s 5ms/step - loss: 0.2663 - cell_id_loss: 0.0202 - primary_site_loss: 0.0202 - sample_type_loss: 0.0026 - original_growth_pattern_loss: 0.0039 - pert_type_loss: 0.2193 - cell_id_accuracy: 0.9951 - primary_site_accuracy: 0.9951 - sample_type_accuracy: 0.9993 - original_growth_pattern_accuracy: 0.9988 - pert_type_accuracy: 0.9453 - val_loss: 0.2258 - val_cell_id_loss: 0.0127 - val_primary_site_loss: 0.0127 - val_sample_type_loss: 0.0019 - val_original_growth_pattern_loss: 0.0028 - val_pert_type_loss: 0.1957 - val_cell_id_accuracy: 0.9964 - val_primary_site_accuracy: 0.9964 - val_sample_type_accuracy: 0.9993 - val_original_growth_pattern_accuracy: 0.9989 - val_pert_type_accuracy: 0.9516\n",
      "Epoch 3/10\n",
      "6178/6178 [==============================] - 33s 5ms/step - loss: 0.2448 - cell_id_loss: 0.0156 - primary_site_loss: 0.0153 - sample_type_loss: 0.0020 - original_growth_pattern_loss: 0.0033 - pert_type_loss: 0.2086 - cell_id_accuracy: 0.9958 - primary_site_accuracy: 0.9959 - sample_type_accuracy: 0.9995 - original_growth_pattern_accuracy: 0.9989 - pert_type_accuracy: 0.9477 - val_loss: 0.3322 - val_cell_id_loss: 0.0485 - val_primary_site_loss: 0.0452 - val_sample_type_loss: 0.0015 - val_original_growth_pattern_loss: 0.0381 - val_pert_type_loss: 0.1988 - val_cell_id_accuracy: 0.9840 - val_primary_site_accuracy: 0.9852 - val_sample_type_accuracy: 0.9995 - val_original_growth_pattern_accuracy: 0.9869 - val_pert_type_accuracy: 0.9531\n",
      "Epoch 4/10\n",
      "6178/6178 [==============================] - 34s 5ms/step - loss: 0.2317 - cell_id_loss: 0.0127 - primary_site_loss: 0.0123 - sample_type_loss: 0.0016 - original_growth_pattern_loss: 0.0025 - pert_type_loss: 0.2026 - cell_id_accuracy: 0.9964 - primary_site_accuracy: 0.9965 - sample_type_accuracy: 0.9995 - original_growth_pattern_accuracy: 0.9992 - pert_type_accuracy: 0.9493 - val_loss: 0.2077 - val_cell_id_loss: 0.0083 - val_primary_site_loss: 0.0085 - val_sample_type_loss: 7.6498e-04 - val_original_growth_pattern_loss: 0.0019 - val_pert_type_loss: 0.1882 - val_cell_id_accuracy: 0.9976 - val_primary_site_accuracy: 0.9975 - val_sample_type_accuracy: 0.9998 - val_original_growth_pattern_accuracy: 0.9993 - val_pert_type_accuracy: 0.9526\n",
      "Epoch 5/10\n",
      "6178/6178 [==============================] - 33s 5ms/step - loss: 0.2239 - cell_id_loss: 0.0108 - primary_site_loss: 0.0103 - sample_type_loss: 0.0015 - original_growth_pattern_loss: 0.0024 - pert_type_loss: 0.1989 - cell_id_accuracy: 0.9968 - primary_site_accuracy: 0.9969 - sample_type_accuracy: 0.9996 - original_growth_pattern_accuracy: 0.9992 - pert_type_accuracy: 0.9500 - val_loss: 0.2195 - val_cell_id_loss: 0.0128 - val_primary_site_loss: 0.0119 - val_sample_type_loss: 0.0019 - val_original_growth_pattern_loss: 0.0017 - val_pert_type_loss: 0.1912 - val_cell_id_accuracy: 0.9966 - val_primary_site_accuracy: 0.9968 - val_sample_type_accuracy: 0.9996 - val_original_growth_pattern_accuracy: 0.9994 - val_pert_type_accuracy: 0.9522\n",
      "Epoch 6/10\n",
      "6178/6178 [==============================] - 33s 5ms/step - loss: 0.2185 - cell_id_loss: 0.0098 - primary_site_loss: 0.0094 - sample_type_loss: 0.0013 - original_growth_pattern_loss: 0.0021 - pert_type_loss: 0.1959 - cell_id_accuracy: 0.9970 - primary_site_accuracy: 0.9972 - sample_type_accuracy: 0.9996 - original_growth_pattern_accuracy: 0.9993 - pert_type_accuracy: 0.9509 - val_loss: 0.2393 - val_cell_id_loss: 0.0124 - val_primary_site_loss: 0.0119 - val_sample_type_loss: 0.0014 - val_original_growth_pattern_loss: 0.0016 - val_pert_type_loss: 0.2120 - val_cell_id_accuracy: 0.9971 - val_primary_site_accuracy: 0.9972 - val_sample_type_accuracy: 0.9995 - val_original_growth_pattern_accuracy: 0.9995 - val_pert_type_accuracy: 0.9454\n",
      "Epoch 7/10\n",
      "6178/6178 [==============================] - 33s 5ms/step - loss: 0.2128 - cell_id_loss: 0.0088 - primary_site_loss: 0.0086 - sample_type_loss: 0.0012 - original_growth_pattern_loss: 0.0019 - pert_type_loss: 0.1923 - cell_id_accuracy: 0.9973 - primary_site_accuracy: 0.9973 - sample_type_accuracy: 0.9996 - original_growth_pattern_accuracy: 0.9993 - pert_type_accuracy: 0.9516 - val_loss: 0.2821 - val_cell_id_loss: 0.0093 - val_primary_site_loss: 0.0093 - val_sample_type_loss: 8.9288e-04 - val_original_growth_pattern_loss: 0.0019 - val_pert_type_loss: 0.2607 - val_cell_id_accuracy: 0.9977 - val_primary_site_accuracy: 0.9976 - val_sample_type_accuracy: 0.9997 - val_original_growth_pattern_accuracy: 0.9994 - val_pert_type_accuracy: 0.9366\n",
      "Epoch 8/10\n",
      "6178/6178 [==============================] - 33s 5ms/step - loss: 0.2098 - cell_id_loss: 0.0082 - primary_site_loss: 0.0079 - sample_type_loss: 0.0011 - original_growth_pattern_loss: 0.0018 - pert_type_loss: 0.1908 - cell_id_accuracy: 0.9976 - primary_site_accuracy: 0.9976 - sample_type_accuracy: 0.9997 - original_growth_pattern_accuracy: 0.9994 - pert_type_accuracy: 0.9518 - val_loss: 0.2004 - val_cell_id_loss: 0.0076 - val_primary_site_loss: 0.0074 - val_sample_type_loss: 8.2181e-04 - val_original_growth_pattern_loss: 0.0014 - val_pert_type_loss: 0.1832 - val_cell_id_accuracy: 0.9976 - val_primary_site_accuracy: 0.9976 - val_sample_type_accuracy: 0.9997 - val_original_growth_pattern_accuracy: 0.9995 - val_pert_type_accuracy: 0.9550\n",
      "Epoch 9/10\n",
      "6178/6178 [==============================] - 33s 5ms/step - loss: 0.2060 - cell_id_loss: 0.0075 - primary_site_loss: 0.0072 - sample_type_loss: 0.0010 - original_growth_pattern_loss: 0.0016 - pert_type_loss: 0.1887 - cell_id_accuracy: 0.9977 - primary_site_accuracy: 0.9977 - sample_type_accuracy: 0.9997 - original_growth_pattern_accuracy: 0.9994 - pert_type_accuracy: 0.9524 - val_loss: 0.1951 - val_cell_id_loss: 0.0076 - val_primary_site_loss: 0.0064 - val_sample_type_loss: 0.0012 - val_original_growth_pattern_loss: 0.0012 - val_pert_type_loss: 0.1787 - val_cell_id_accuracy: 0.9975 - val_primary_site_accuracy: 0.9979 - val_sample_type_accuracy: 0.9996 - val_original_growth_pattern_accuracy: 0.9994 - val_pert_type_accuracy: 0.9554\n",
      "Epoch 10/10\n",
      "6178/6178 [==============================] - 33s 5ms/step - loss: 0.2040 - cell_id_loss: 0.0071 - primary_site_loss: 0.0068 - sample_type_loss: 0.0010 - original_growth_pattern_loss: 0.0016 - pert_type_loss: 0.1876 - cell_id_accuracy: 0.9979 - primary_site_accuracy: 0.9979 - sample_type_accuracy: 0.9997 - original_growth_pattern_accuracy: 0.9994 - pert_type_accuracy: 0.9526 - val_loss: 0.2265 - val_cell_id_loss: 0.0219 - val_primary_site_loss: 0.0220 - val_sample_type_loss: 8.6051e-04 - val_original_growth_pattern_loss: 0.0016 - val_pert_type_loss: 0.1801 - val_cell_id_accuracy: 0.9923 - val_primary_site_accuracy: 0.9924 - val_sample_type_accuracy: 0.9997 - val_original_growth_pattern_accuracy: 0.9994 - val_pert_type_accuracy: 0.9552\n"
     ]
    }
   ],
   "source": [
    "mc.fit(epochs=10)"
   ]
  },
  {
   "cell_type": "code",
   "execution_count": 12,
   "metadata": {},
   "outputs": [
    {
     "data": {
      "application/vnd.vegalite.v3+json": {
       "$schema": "https://vega.github.io/schema/vega-lite/v3.3.0.json",
       "config": {
        "mark": {
         "tooltip": null
        },
        "view": {
         "height": 300,
         "width": 400
        }
       },
       "datasets": {
        "data-238034668f44b9e462b690e6afc5a0b0": [
         {
          "index": "A375",
          "value": 0.9992141110723017,
          "variable": "A375"
         },
         {
          "index": "A549",
          "value": 0.004250797024442083,
          "variable": "A375"
         },
         {
          "index": "ASC",
          "value": 0.0005189413596263622,
          "variable": "A375"
         },
         {
          "index": "HA1E",
          "value": 0.00014336917562724014,
          "variable": "A375"
         },
         {
          "index": "HCC515",
          "value": 0,
          "variable": "A375"
         },
         {
          "index": "HEPG2",
          "value": 0.0017173699705593719,
          "variable": "A375"
         },
         {
          "index": "HT29",
          "value": 0.028284098051539912,
          "variable": "A375"
         },
         {
          "index": "MCF7",
          "value": 4.721435316336166e-05,
          "variable": "A375"
         },
         {
          "index": "NPC",
          "value": 0.0003179650238473768,
          "variable": "A375"
         },
         {
          "index": "PC3",
          "value": 0.0004511504336056945,
          "variable": "A375"
         },
         {
          "index": "VCAP",
          "value": 0.0001168815989402735,
          "variable": "A375"
         },
         {
          "index": "A375",
          "value": 0.00034928396786587494,
          "variable": "A549"
         },
         {
          "index": "A549",
          "value": 0.9948499959126952,
          "variable": "A549"
         },
         {
          "index": "ASC",
          "value": 0,
          "variable": "A549"
         },
         {
          "index": "HA1E",
          "value": 0.00014336917562724014,
          "variable": "A549"
         },
         {
          "index": "HCC515",
          "value": 0.0006859886811867604,
          "variable": "A549"
         },
         {
          "index": "HEPG2",
          "value": 0.0034347399411187437,
          "variable": "A549"
         },
         {
          "index": "HT29",
          "value": 0.0002693723623956182,
          "variable": "A549"
         },
         {
          "index": "MCF7",
          "value": 4.721435316336166e-05,
          "variable": "A549"
         },
         {
          "index": "NPC",
          "value": 0,
          "variable": "A549"
         },
         {
          "index": "PC3",
          "value": 5.012782595618828e-05,
          "variable": "A549"
         },
         {
          "index": "VCAP",
          "value": 3.8960532980091166e-05,
          "variable": "A549"
         },
         {
          "index": "A375",
          "value": 0,
          "variable": "ASC"
         },
         {
          "index": "A549",
          "value": 0,
          "variable": "ASC"
         },
         {
          "index": "ASC",
          "value": 0.9984431759211209,
          "variable": "ASC"
         },
         {
          "index": "HA1E",
          "value": 0,
          "variable": "ASC"
         },
         {
          "index": "HCC515",
          "value": 0,
          "variable": "ASC"
         },
         {
          "index": "HEPG2",
          "value": 0,
          "variable": "ASC"
         },
         {
          "index": "HT29",
          "value": 0,
          "variable": "ASC"
         },
         {
          "index": "MCF7",
          "value": 0,
          "variable": "ASC"
         },
         {
          "index": "NPC",
          "value": 0.0003179650238473768,
          "variable": "ASC"
         },
         {
          "index": "PC3",
          "value": 0,
          "variable": "ASC"
         },
         {
          "index": "VCAP",
          "value": 0,
          "variable": "ASC"
         },
         {
          "index": "A375",
          "value": 0.00017464198393293747,
          "variable": "HA1E"
         },
         {
          "index": "A549",
          "value": 0.00040873048311943107,
          "variable": "HA1E"
         },
         {
          "index": "ASC",
          "value": 0.0005189413596263622,
          "variable": "HA1E"
         },
         {
          "index": "HA1E",
          "value": 0.999426523297491,
          "variable": "HA1E"
         },
         {
          "index": "HCC515",
          "value": 0.0005144915108900703,
          "variable": "HA1E"
         },
         {
          "index": "HEPG2",
          "value": 0.0034347399411187437,
          "variable": "HA1E"
         },
         {
          "index": "HT29",
          "value": 0.00017958157493041214,
          "variable": "HA1E"
         },
         {
          "index": "MCF7",
          "value": 0.00018885741265344664,
          "variable": "HA1E"
         },
         {
          "index": "NPC",
          "value": 0,
          "variable": "HA1E"
         },
         {
          "index": "PC3",
          "value": 0.0003007669557371297,
          "variable": "HA1E"
         },
         {
          "index": "VCAP",
          "value": 0.00019480266490045584,
          "variable": "HA1E"
         },
         {
          "index": "A375",
          "value": 0,
          "variable": "HCC515"
         },
         {
          "index": "A549",
          "value": 0,
          "variable": "HCC515"
         },
         {
          "index": "ASC",
          "value": 0,
          "variable": "HCC515"
         },
         {
          "index": "HA1E",
          "value": 0,
          "variable": "HCC515"
         },
         {
          "index": "HCC515",
          "value": 0.9986280226376265,
          "variable": "HCC515"
         },
         {
          "index": "HEPG2",
          "value": 0,
          "variable": "HCC515"
         },
         {
          "index": "HT29",
          "value": 0,
          "variable": "HCC515"
         },
         {
          "index": "MCF7",
          "value": 0,
          "variable": "HCC515"
         },
         {
          "index": "NPC",
          "value": 0,
          "variable": "HCC515"
         },
         {
          "index": "PC3",
          "value": 0,
          "variable": "HCC515"
         },
         {
          "index": "VCAP",
          "value": 0,
          "variable": "HCC515"
         },
         {
          "index": "A375",
          "value": 0,
          "variable": "HEPG2"
         },
         {
          "index": "A549",
          "value": 0,
          "variable": "HEPG2"
         },
         {
          "index": "ASC",
          "value": 0,
          "variable": "HEPG2"
         },
         {
          "index": "HA1E",
          "value": 0,
          "variable": "HEPG2"
         },
         {
          "index": "HCC515",
          "value": 0,
          "variable": "HEPG2"
         },
         {
          "index": "HEPG2",
          "value": 0.9892051030421982,
          "variable": "HEPG2"
         },
         {
          "index": "HT29",
          "value": 8.979078746520607e-05,
          "variable": "HEPG2"
         },
         {
          "index": "MCF7",
          "value": 0,
          "variable": "HEPG2"
         },
         {
          "index": "NPC",
          "value": 0,
          "variable": "HEPG2"
         },
         {
          "index": "PC3",
          "value": 0,
          "variable": "HEPG2"
         },
         {
          "index": "VCAP",
          "value": 0,
          "variable": "HEPG2"
         },
         {
          "index": "A375",
          "value": 0.00026196297589940623,
          "variable": "HT29"
         },
         {
          "index": "A549",
          "value": 0.00024523828987165863,
          "variable": "HT29"
         },
         {
          "index": "ASC",
          "value": 0,
          "variable": "HT29"
         },
         {
          "index": "HA1E",
          "value": 0.0002867383512544803,
          "variable": "HT29"
         },
         {
          "index": "HCC515",
          "value": 0,
          "variable": "HT29"
         },
         {
          "index": "HEPG2",
          "value": 0.0017173699705593719,
          "variable": "HT29"
         },
         {
          "index": "HT29",
          "value": 0.9710873664362036,
          "variable": "HT29"
         },
         {
          "index": "MCF7",
          "value": 0.00023607176581680832,
          "variable": "HT29"
         },
         {
          "index": "NPC",
          "value": 0,
          "variable": "HT29"
         },
         {
          "index": "PC3",
          "value": 0.0002506391297809414,
          "variable": "HT29"
         },
         {
          "index": "VCAP",
          "value": 0.01640238438461838,
          "variable": "HT29"
         },
         {
          "index": "A375",
          "value": 0,
          "variable": "MCF7"
         },
         {
          "index": "A549",
          "value": 0.00024523828987165863,
          "variable": "MCF7"
         },
         {
          "index": "ASC",
          "value": 0.0005189413596263622,
          "variable": "MCF7"
         },
         {
          "index": "HA1E",
          "value": 0,
          "variable": "MCF7"
         },
         {
          "index": "HCC515",
          "value": 0.0001714971702966901,
          "variable": "MCF7"
         },
         {
          "index": "HEPG2",
          "value": 0.0004906771344455348,
          "variable": "MCF7"
         },
         {
          "index": "HT29",
          "value": 0,
          "variable": "MCF7"
         },
         {
          "index": "MCF7",
          "value": 0.998441926345609,
          "variable": "MCF7"
         },
         {
          "index": "NPC",
          "value": 0,
          "variable": "MCF7"
         },
         {
          "index": "PC3",
          "value": 0.0021053686901599078,
          "variable": "MCF7"
         },
         {
          "index": "VCAP",
          "value": 0,
          "variable": "MCF7"
         },
         {
          "index": "A375",
          "value": 0,
          "variable": "NPC"
         },
         {
          "index": "A549",
          "value": 0,
          "variable": "NPC"
         },
         {
          "index": "ASC",
          "value": 0,
          "variable": "NPC"
         },
         {
          "index": "HA1E",
          "value": 0,
          "variable": "NPC"
         },
         {
          "index": "HCC515",
          "value": 0,
          "variable": "NPC"
         },
         {
          "index": "HEPG2",
          "value": 0,
          "variable": "NPC"
         },
         {
          "index": "HT29",
          "value": 0,
          "variable": "NPC"
         },
         {
          "index": "MCF7",
          "value": 0,
          "variable": "NPC"
         },
         {
          "index": "NPC",
          "value": 0.9993640699523052,
          "variable": "NPC"
         },
         {
          "index": "PC3",
          "value": 0,
          "variable": "NPC"
         },
         {
          "index": "VCAP",
          "value": 0,
          "variable": "NPC"
         },
         {
          "index": "A375",
          "value": 0,
          "variable": "PC3"
         },
         {
          "index": "A549",
          "value": 0,
          "variable": "PC3"
         },
         {
          "index": "ASC",
          "value": 0,
          "variable": "PC3"
         },
         {
          "index": "HA1E",
          "value": 0,
          "variable": "PC3"
         },
         {
          "index": "HCC515",
          "value": 0,
          "variable": "PC3"
         },
         {
          "index": "HEPG2",
          "value": 0,
          "variable": "PC3"
         },
         {
          "index": "HT29",
          "value": 8.979078746520607e-05,
          "variable": "PC3"
         },
         {
          "index": "MCF7",
          "value": 0.0008970727101038716,
          "variable": "PC3"
         },
         {
          "index": "NPC",
          "value": 0,
          "variable": "PC3"
         },
         {
          "index": "PC3",
          "value": 0.996791819138804,
          "variable": "PC3"
         },
         {
          "index": "VCAP",
          "value": 3.8960532980091166e-05,
          "variable": "PC3"
         },
         {
          "index": "A375",
          "value": 0,
          "variable": "VCAP"
         },
         {
          "index": "A549",
          "value": 0,
          "variable": "VCAP"
         },
         {
          "index": "ASC",
          "value": 0,
          "variable": "VCAP"
         },
         {
          "index": "HA1E",
          "value": 0,
          "variable": "VCAP"
         },
         {
          "index": "HCC515",
          "value": 0,
          "variable": "VCAP"
         },
         {
          "index": "HEPG2",
          "value": 0,
          "variable": "VCAP"
         },
         {
          "index": "HT29",
          "value": 0,
          "variable": "VCAP"
         },
         {
          "index": "MCF7",
          "value": 0.00014164305949008498,
          "variable": "VCAP"
         },
         {
          "index": "NPC",
          "value": 0,
          "variable": "VCAP"
         },
         {
          "index": "PC3",
          "value": 5.012782595618828e-05,
          "variable": "VCAP"
         },
         {
          "index": "VCAP",
          "value": 0.9832080102855807,
          "variable": "VCAP"
         }
        ],
        "data-416f5f7187f84f65db9d6514382105c4": [
         {
          "index": "normal",
          "value": 0.9992972044354209,
          "variable": "normal"
         },
         {
          "index": "primary",
          "value": 0.0003943217665615142,
          "variable": "normal"
         },
         {
          "index": "tumor",
          "value": 0.000245993150036899,
          "variable": "normal"
         },
         {
          "index": "normal",
          "value": 0,
          "variable": "primary"
         },
         {
          "index": "primary",
          "value": 0.999211356466877,
          "variable": "primary"
         },
         {
          "index": "tumor",
          "value": 0,
          "variable": "primary"
         },
         {
          "index": "normal",
          "value": 0.0007027955645791035,
          "variable": "tumor"
         },
         {
          "index": "primary",
          "value": 0.0003943217665615142,
          "variable": "tumor"
         },
         {
          "index": "tumor",
          "value": 0.9997540068499631,
          "variable": "tumor"
         }
        ],
        "data-50f9fff421c3c8b2ea17cd4ed458e83f": [
         {
          "index": "adherent",
          "value": 0.9999420977968212,
          "variable": "adherent"
         },
         {
          "index": "mix",
          "value": 0.0041104817284074386,
          "variable": "adherent"
         },
         {
          "index": "adherent",
          "value": 5.790220317883095e-05,
          "variable": "mix"
         },
         {
          "index": "mix",
          "value": 0.9958895182715926,
          "variable": "mix"
         }
        ],
        "data-68efa216ca03c14825001c3a3dcd182f": [
         {
          "index": "adipose",
          "value": 0.9989621172807472,
          "variable": "adipose"
         },
         {
          "index": "breast",
          "value": 0,
          "variable": "adipose"
         },
         {
          "index": "central nervous system",
          "value": 0.0003179650238473768,
          "variable": "adipose"
         },
         {
          "index": "kidney",
          "value": 0,
          "variable": "adipose"
         },
         {
          "index": "large intestine",
          "value": 0,
          "variable": "adipose"
         },
         {
          "index": "liver",
          "value": 0,
          "variable": "adipose"
         },
         {
          "index": "lung",
          "value": 0,
          "variable": "adipose"
         },
         {
          "index": "prostate",
          "value": 0,
          "variable": "adipose"
         },
         {
          "index": "skin",
          "value": 0,
          "variable": "adipose"
         },
         {
          "index": "adipose",
          "value": 0.0005189413596263622,
          "variable": "breast"
         },
         {
          "index": "breast",
          "value": 0.998441926345609,
          "variable": "breast"
         },
         {
          "index": "central nervous system",
          "value": 0,
          "variable": "breast"
         },
         {
          "index": "kidney",
          "value": 0,
          "variable": "breast"
         },
         {
          "index": "large intestine",
          "value": 0,
          "variable": "breast"
         },
         {
          "index": "liver",
          "value": 0.0004906771344455348,
          "variable": "breast"
         },
         {
          "index": "lung",
          "value": 0.00022143489813994686,
          "variable": "breast"
         },
         {
          "index": "prostate",
          "value": 0.0008330410382321993,
          "variable": "breast"
         },
         {
          "index": "skin",
          "value": 0,
          "variable": "breast"
         },
         {
          "index": "adipose",
          "value": 0,
          "variable": "central nervous system"
         },
         {
          "index": "breast",
          "value": 0,
          "variable": "central nervous system"
         },
         {
          "index": "central nervous system",
          "value": 0.9990461049284579,
          "variable": "central nervous system"
         },
         {
          "index": "kidney",
          "value": 0,
          "variable": "central nervous system"
         },
         {
          "index": "large intestine",
          "value": 0,
          "variable": "central nervous system"
         },
         {
          "index": "liver",
          "value": 0,
          "variable": "central nervous system"
         },
         {
          "index": "lung",
          "value": 0,
          "variable": "central nervous system"
         },
         {
          "index": "prostate",
          "value": 0,
          "variable": "central nervous system"
         },
         {
          "index": "skin",
          "value": 0,
          "variable": "central nervous system"
         },
         {
          "index": "adipose",
          "value": 0.0005189413596263622,
          "variable": "kidney"
         },
         {
          "index": "breast",
          "value": 0.00018885741265344664,
          "variable": "kidney"
         },
         {
          "index": "central nervous system",
          "value": 0,
          "variable": "kidney"
         },
         {
          "index": "kidney",
          "value": 0.999426523297491,
          "variable": "kidney"
         },
         {
          "index": "large intestine",
          "value": 0.00017958157493041214,
          "variable": "kidney"
         },
         {
          "index": "liver",
          "value": 0.0034347399411187437,
          "variable": "kidney"
         },
         {
          "index": "lung",
          "value": 0.000387511071744907,
          "variable": "kidney"
         },
         {
          "index": "prostate",
          "value": 0.00021922132585057875,
          "variable": "kidney"
         },
         {
          "index": "skin",
          "value": 0.00017464198393293747,
          "variable": "kidney"
         },
         {
          "index": "adipose",
          "value": 0,
          "variable": "large intestine"
         },
         {
          "index": "breast",
          "value": 0.00018885741265344664,
          "variable": "large intestine"
         },
         {
          "index": "central nervous system",
          "value": 0,
          "variable": "large intestine"
         },
         {
          "index": "kidney",
          "value": 0.0002867383512544803,
          "variable": "large intestine"
         },
         {
          "index": "large intestine",
          "value": 0.9709077848612733,
          "variable": "large intestine"
         },
         {
          "index": "liver",
          "value": 0.0012266928361138372,
          "variable": "large intestine"
         },
         {
          "index": "lung",
          "value": 0.00022143489813994686,
          "variable": "large intestine"
         },
         {
          "index": "prostate",
          "value": 0.008944230094703612,
          "variable": "large intestine"
         },
         {
          "index": "skin",
          "value": 0.00034928396786587494,
          "variable": "large intestine"
         },
         {
          "index": "adipose",
          "value": 0,
          "variable": "liver"
         },
         {
          "index": "breast",
          "value": 0,
          "variable": "liver"
         },
         {
          "index": "central nervous system",
          "value": 0,
          "variable": "liver"
         },
         {
          "index": "kidney",
          "value": 0,
          "variable": "liver"
         },
         {
          "index": "large intestine",
          "value": 8.979078746520607e-05,
          "variable": "liver"
         },
         {
          "index": "liver",
          "value": 0.989450441609421,
          "variable": "liver"
         },
         {
          "index": "lung",
          "value": 0,
          "variable": "liver"
         },
         {
          "index": "prostate",
          "value": 0,
          "variable": "liver"
         },
         {
          "index": "skin",
          "value": 0,
          "variable": "liver"
         },
         {
          "index": "adipose",
          "value": 0,
          "variable": "lung"
         },
         {
          "index": "breast",
          "value": 4.721435316336166e-05,
          "variable": "lung"
         },
         {
          "index": "central nervous system",
          "value": 0,
          "variable": "lung"
         },
         {
          "index": "kidney",
          "value": 0.00014336917562724014,
          "variable": "lung"
         },
         {
          "index": "large intestine",
          "value": 0.0003591631498608243,
          "variable": "lung"
         },
         {
          "index": "liver",
          "value": 0.0036800785083415115,
          "variable": "lung"
         },
         {
          "index": "lung",
          "value": 0.9961248892825509,
          "variable": "lung"
         },
         {
          "index": "prostate",
          "value": 6.576639775517363e-05,
          "variable": "lung"
         },
         {
          "index": "skin",
          "value": 0.00034928396786587494,
          "variable": "lung"
         },
         {
          "index": "adipose",
          "value": 0,
          "variable": "prostate"
         },
         {
          "index": "breast",
          "value": 0.0010859301227573181,
          "variable": "prostate"
         },
         {
          "index": "central nervous system",
          "value": 0,
          "variable": "prostate"
         },
         {
          "index": "kidney",
          "value": 0,
          "variable": "prostate"
         },
         {
          "index": "large intestine",
          "value": 8.979078746520607e-05,
          "variable": "prostate"
         },
         {
          "index": "liver",
          "value": 0,
          "variable": "prostate"
         },
         {
          "index": "lung",
          "value": 0,
          "variable": "prostate"
         },
         {
          "index": "prostate",
          "value": 0.9895869870220975,
          "variable": "prostate"
         },
         {
          "index": "skin",
          "value": 0,
          "variable": "prostate"
         },
         {
          "index": "adipose",
          "value": 0,
          "variable": "skin"
         },
         {
          "index": "breast",
          "value": 4.721435316336166e-05,
          "variable": "skin"
         },
         {
          "index": "central nervous system",
          "value": 0.0006359300476947536,
          "variable": "skin"
         },
         {
          "index": "kidney",
          "value": 0.00014336917562724014,
          "variable": "skin"
         },
         {
          "index": "large intestine",
          "value": 0.02837388883900512,
          "variable": "skin"
         },
         {
          "index": "liver",
          "value": 0.0017173699705593719,
          "variable": "skin"
         },
         {
          "index": "lung",
          "value": 0.003044729849424269,
          "variable": "skin"
         },
         {
          "index": "prostate",
          "value": 0.00035075412136092597,
          "variable": "skin"
         },
         {
          "index": "skin",
          "value": 0.9991267900803353,
          "variable": "skin"
         }
        ],
        "data-fe773b84ca62eb9d2c03871de8abb4c0": [
         {
          "index": "ctl_untrt",
          "value": 0.815354713313897,
          "variable": "ctl_untrt"
         },
         {
          "index": "ctl_vehicle",
          "value": 0.0004157139887757223,
          "variable": "ctl_untrt"
         },
         {
          "index": "trt_cp",
          "value": 0.00035762571416110604,
          "variable": "ctl_untrt"
         },
         {
          "index": "ctl_untrt",
          "value": 0,
          "variable": "ctl_vehicle"
         },
         {
          "index": "ctl_vehicle",
          "value": 0.002494283932654334,
          "variable": "ctl_vehicle"
         },
         {
          "index": "trt_cp",
          "value": 0,
          "variable": "ctl_vehicle"
         },
         {
          "index": "ctl_untrt",
          "value": 0.184645286686103,
          "variable": "trt_cp"
         },
         {
          "index": "ctl_vehicle",
          "value": 0.9970900020785699,
          "variable": "trt_cp"
         },
         {
          "index": "trt_cp",
          "value": 0.9996423742858389,
          "variable": "trt_cp"
         }
        ]
       },
       "hconcat": [
        {
         "data": {
          "name": "data-238034668f44b9e462b690e6afc5a0b0"
         },
         "height": 180,
         "layer": [
          {
           "encoding": {
            "color": {
             "field": "value",
             "scale": {
              "scheme": "lightgreyteal"
             },
             "type": "quantitative"
            },
            "x": {
             "field": "index",
             "title": "Predicted Label",
             "type": "nominal"
            },
            "y": {
             "field": "variable",
             "title": "True Label",
             "type": "nominal"
            }
           },
           "mark": "rect"
          },
          {
           "encoding": {
            "text": {
             "field": "value",
             "format": ".2",
             "type": "quantitative"
            },
            "x": {
             "field": "index",
             "title": "Predicted Label",
             "type": "nominal"
            },
            "y": {
             "field": "variable",
             "title": "True Label",
             "type": "nominal"
            }
           },
           "mark": {
            "size": 9,
            "type": "text"
           }
          }
         ],
         "title": "cell_id",
         "width": 180
        },
        {
         "data": {
          "name": "data-68efa216ca03c14825001c3a3dcd182f"
         },
         "height": 180,
         "layer": [
          {
           "encoding": {
            "color": {
             "field": "value",
             "scale": {
              "scheme": "lightgreyteal"
             },
             "type": "quantitative"
            },
            "x": {
             "field": "index",
             "title": "Predicted Label",
             "type": "nominal"
            },
            "y": {
             "field": "variable",
             "title": "True Label",
             "type": "nominal"
            }
           },
           "mark": "rect"
          },
          {
           "encoding": {
            "text": {
             "field": "value",
             "format": ".2",
             "type": "quantitative"
            },
            "x": {
             "field": "index",
             "title": "Predicted Label",
             "type": "nominal"
            },
            "y": {
             "field": "variable",
             "title": "True Label",
             "type": "nominal"
            }
           },
           "mark": {
            "size": 9,
            "type": "text"
           }
          }
         ],
         "title": "primary_site",
         "width": 180
        },
        {
         "data": {
          "name": "data-416f5f7187f84f65db9d6514382105c4"
         },
         "height": 180,
         "layer": [
          {
           "encoding": {
            "color": {
             "field": "value",
             "scale": {
              "scheme": "lightgreyteal"
             },
             "type": "quantitative"
            },
            "x": {
             "field": "index",
             "title": "Predicted Label",
             "type": "nominal"
            },
            "y": {
             "field": "variable",
             "title": "True Label",
             "type": "nominal"
            }
           },
           "mark": "rect"
          },
          {
           "encoding": {
            "text": {
             "field": "value",
             "format": ".2",
             "type": "quantitative"
            },
            "x": {
             "field": "index",
             "title": "Predicted Label",
             "type": "nominal"
            },
            "y": {
             "field": "variable",
             "title": "True Label",
             "type": "nominal"
            }
           },
           "mark": {
            "size": 9,
            "type": "text"
           }
          }
         ],
         "title": "sample_type",
         "width": 180
        },
        {
         "data": {
          "name": "data-50f9fff421c3c8b2ea17cd4ed458e83f"
         },
         "height": 180,
         "layer": [
          {
           "encoding": {
            "color": {
             "field": "value",
             "scale": {
              "scheme": "lightgreyteal"
             },
             "type": "quantitative"
            },
            "x": {
             "field": "index",
             "title": "Predicted Label",
             "type": "nominal"
            },
            "y": {
             "field": "variable",
             "title": "True Label",
             "type": "nominal"
            }
           },
           "mark": "rect"
          },
          {
           "encoding": {
            "text": {
             "field": "value",
             "format": ".2",
             "type": "quantitative"
            },
            "x": {
             "field": "index",
             "title": "Predicted Label",
             "type": "nominal"
            },
            "y": {
             "field": "variable",
             "title": "True Label",
             "type": "nominal"
            }
           },
           "mark": {
            "size": 9,
            "type": "text"
           }
          }
         ],
         "title": "original_growth_pattern",
         "width": 180
        },
        {
         "data": {
          "name": "data-fe773b84ca62eb9d2c03871de8abb4c0"
         },
         "height": 180,
         "layer": [
          {
           "encoding": {
            "color": {
             "field": "value",
             "scale": {
              "scheme": "lightgreyteal"
             },
             "type": "quantitative"
            },
            "x": {
             "field": "index",
             "title": "Predicted Label",
             "type": "nominal"
            },
            "y": {
             "field": "variable",
             "title": "True Label",
             "type": "nominal"
            }
           },
           "mark": "rect"
          },
          {
           "encoding": {
            "text": {
             "field": "value",
             "format": ".2",
             "type": "quantitative"
            },
            "x": {
             "field": "index",
             "title": "Predicted Label",
             "type": "nominal"
            },
            "y": {
             "field": "variable",
             "title": "True Label",
             "type": "nominal"
            }
           },
           "mark": {
            "size": 9,
            "type": "text"
           }
          }
         ],
         "title": "pert_type",
         "width": 180
        }
       ]
      },
      "image/png": "[encoded data removed]",
      "text/plain": [
       "<VegaLite 3 object>\n",
       "\n",
       "If you see this message, it means the renderer has not been properly enabled\n",
       "for the frontend that you are using. For more information, see\n",
       "https://altair-viz.github.io/user_guide/troubleshooting.html\n"
      ]
     },
     "execution_count": 12,
     "metadata": {},
     "output_type": "execute_result"
    }
   ],
   "source": [
    "mc.plot_confusion_matrix(size=180)"
   ]
  },
  {
   "cell_type": "code",
   "execution_count": null,
   "metadata": {},
   "outputs": [],
   "source": []
  }
 ],
 "metadata": {
  "kernelspec": {
   "display_name": "Python 3",
   "language": "python",
   "name": "python3"
  },
  "language_info": {
   "codemirror_mode": {
    "name": "ipython",
    "version": 3
   },
   "file_extension": ".py",
   "mimetype": "text/x-python",
   "name": "python",
   "nbconvert_exporter": "python",
   "pygments_lexer": "ipython3",
   "version": "3.6.8"
  }
 },
 "nbformat": 4,
 "nbformat_minor": 4
}
